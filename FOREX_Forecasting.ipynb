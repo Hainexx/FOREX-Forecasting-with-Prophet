{
  "nbformat": 4,
  "nbformat_minor": 0,
  "metadata": {
    "colab": {
      "provenance": [],
      "collapsed_sections": [],
      "include_colab_link": true
    },
    "kernelspec": {
      "name": "python3",
      "display_name": "Python 3"
    },
    "language_info": {
      "name": "python"
    }
  },
  "cells": [
    {
      "cell_type": "markdown",
      "metadata": {
        "id": "view-in-github",
        "colab_type": "text"
      },
      "source": [
        "<a href=\"https://colab.research.google.com/github/Hainexx/FOREX-Forecasting-with-Prophet/blob/main/FOREX_Forecasting.ipynb\" target=\"_parent\"><img src=\"https://colab.research.google.com/assets/colab-badge.svg\" alt=\"Open In Colab\"/></a>"
      ]
    },
    {
      "cell_type": "markdown",
      "metadata": {
        "id": "rNx2SdrtK79v"
      },
      "source": [
        "# **FORECASTING FOREX VIA TS ANALYSIS**\n",
        "2021/06/20\\\n",
        "Gaspare Mattarella\n"
      ]
    },
    {
      "cell_type": "markdown",
      "metadata": {
        "id": "-VmVCRekLSRk"
      },
      "source": [
        "## Part 1: New Extra Regressors\n",
        "\n"
      ]
    },
    {
      "cell_type": "markdown",
      "metadata": {
        "id": "-vXvhSAPLioy"
      },
      "source": [
        "Beside the regressors we learned from the lab, we choose other candidate extra regressors according to the research references:\n",
        "- US unemployment\n",
        "- US interest\n",
        "- EU interest\n",
        "- EU repo\n",
        "- Live data of Covid for EU and US"
      ]
    },
    {
      "cell_type": "code",
      "metadata": {
        "colab": {
          "base_uri": "https://localhost:8080/"
        },
        "collapsed": true,
        "id": "lxT3Acv7LLiM",
        "outputId": "f711820b-20ad-420b-88b8-678c71724a5e"
      },
      "source": [
        "# *IMPORT LIBRARIES USED*\n",
        "\n",
        "!pip install fbprophet\n",
        "!pip install yfinance\n",
        "\n",
        "from fbprophet import Prophet\n",
        "from datetime import date\n",
        "from scipy import stats\n",
        "import statsmodels.api as sm\n",
        "import pandas as pd\n",
        "import numpy as np\n",
        "import yfinance as yf\n",
        "import plotly.express as px\n",
        "import matplotlib.pyplot as plt\n",
        "import seaborn as sns\n",
        "import scipy\n",
        "import time\n",
        "import plotly.graph_objects as go"
      ],
      "execution_count": null,
      "outputs": [
        {
          "output_type": "stream",
          "text": [
            "Requirement already satisfied: fbprophet in /usr/local/lib/python3.7/dist-packages (0.7.1)\n",
            "Requirement already satisfied: Cython>=0.22 in /usr/local/lib/python3.7/dist-packages (from fbprophet) (0.29.23)\n",
            "Requirement already satisfied: cmdstanpy==0.9.5 in /usr/local/lib/python3.7/dist-packages (from fbprophet) (0.9.5)\n",
            "Requirement already satisfied: pystan>=2.14 in /usr/local/lib/python3.7/dist-packages (from fbprophet) (2.19.1.1)\n",
            "Requirement already satisfied: numpy>=1.15.4 in /usr/local/lib/python3.7/dist-packages (from fbprophet) (1.19.5)\n",
            "Requirement already satisfied: pandas>=1.0.4 in /usr/local/lib/python3.7/dist-packages (from fbprophet) (1.1.5)\n",
            "Requirement already satisfied: matplotlib>=2.0.0 in /usr/local/lib/python3.7/dist-packages (from fbprophet) (3.2.2)\n",
            "Requirement already satisfied: LunarCalendar>=0.0.9 in /usr/local/lib/python3.7/dist-packages (from fbprophet) (0.0.9)\n",
            "Requirement already satisfied: convertdate>=2.1.2 in /usr/local/lib/python3.7/dist-packages (from fbprophet) (2.3.2)\n",
            "Requirement already satisfied: holidays>=0.10.2 in /usr/local/lib/python3.7/dist-packages (from fbprophet) (0.10.5.2)\n",
            "Requirement already satisfied: setuptools-git>=1.2 in /usr/local/lib/python3.7/dist-packages (from fbprophet) (1.2)\n",
            "Requirement already satisfied: python-dateutil>=2.8.0 in /usr/local/lib/python3.7/dist-packages (from fbprophet) (2.8.1)\n",
            "Requirement already satisfied: tqdm>=4.36.1 in /usr/local/lib/python3.7/dist-packages (from fbprophet) (4.41.1)\n",
            "Requirement already satisfied: pytz>=2017.2 in /usr/local/lib/python3.7/dist-packages (from pandas>=1.0.4->fbprophet) (2018.9)\n",
            "Requirement already satisfied: pyparsing!=2.0.4,!=2.1.2,!=2.1.6,>=2.0.1 in /usr/local/lib/python3.7/dist-packages (from matplotlib>=2.0.0->fbprophet) (2.4.7)\n",
            "Requirement already satisfied: kiwisolver>=1.0.1 in /usr/local/lib/python3.7/dist-packages (from matplotlib>=2.0.0->fbprophet) (1.3.1)\n",
            "Requirement already satisfied: cycler>=0.10 in /usr/local/lib/python3.7/dist-packages (from matplotlib>=2.0.0->fbprophet) (0.10.0)\n",
            "Requirement already satisfied: ephem>=3.7.5.3 in /usr/local/lib/python3.7/dist-packages (from LunarCalendar>=0.0.9->fbprophet) (4.0.0.2)\n",
            "Requirement already satisfied: pymeeus<=1,>=0.3.13 in /usr/local/lib/python3.7/dist-packages (from convertdate>=2.1.2->fbprophet) (0.5.11)\n",
            "Requirement already satisfied: six in /usr/local/lib/python3.7/dist-packages (from holidays>=0.10.2->fbprophet) (1.15.0)\n",
            "Requirement already satisfied: korean-lunar-calendar in /usr/local/lib/python3.7/dist-packages (from holidays>=0.10.2->fbprophet) (0.2.1)\n",
            "Requirement already satisfied: hijri-converter in /usr/local/lib/python3.7/dist-packages (from holidays>=0.10.2->fbprophet) (2.1.2)\n",
            "Requirement already satisfied: yfinance in /usr/local/lib/python3.7/dist-packages (0.1.59)\n",
            "Requirement already satisfied: multitasking>=0.0.7 in /usr/local/lib/python3.7/dist-packages (from yfinance) (0.0.9)\n",
            "Requirement already satisfied: pandas>=0.24 in /usr/local/lib/python3.7/dist-packages (from yfinance) (1.1.5)\n",
            "Requirement already satisfied: lxml>=4.5.1 in /usr/local/lib/python3.7/dist-packages (from yfinance) (4.6.3)\n",
            "Requirement already satisfied: requests>=2.20 in /usr/local/lib/python3.7/dist-packages (from yfinance) (2.23.0)\n",
            "Requirement already satisfied: numpy>=1.15 in /usr/local/lib/python3.7/dist-packages (from yfinance) (1.19.5)\n",
            "Requirement already satisfied: python-dateutil>=2.7.3 in /usr/local/lib/python3.7/dist-packages (from pandas>=0.24->yfinance) (2.8.1)\n",
            "Requirement already satisfied: pytz>=2017.2 in /usr/local/lib/python3.7/dist-packages (from pandas>=0.24->yfinance) (2018.9)\n",
            "Requirement already satisfied: certifi>=2017.4.17 in /usr/local/lib/python3.7/dist-packages (from requests>=2.20->yfinance) (2021.5.30)\n",
            "Requirement already satisfied: urllib3!=1.25.0,!=1.25.1,<1.26,>=1.21.1 in /usr/local/lib/python3.7/dist-packages (from requests>=2.20->yfinance) (1.24.3)\n",
            "Requirement already satisfied: chardet<4,>=3.0.2 in /usr/local/lib/python3.7/dist-packages (from requests>=2.20->yfinance) (3.0.4)\n",
            "Requirement already satisfied: idna<3,>=2.5 in /usr/local/lib/python3.7/dist-packages (from requests>=2.20->yfinance) (2.10)\n",
            "Requirement already satisfied: six>=1.5 in /usr/local/lib/python3.7/dist-packages (from python-dateutil>=2.7.3->pandas>=0.24->yfinance) (1.15.0)\n"
          ],
          "name": "stdout"
        },
        {
          "output_type": "stream",
          "text": [
            "/usr/local/lib/python3.7/dist-packages/statsmodels/tools/_testing.py:19: FutureWarning:\n",
            "\n",
            "pandas.util.testing is deprecated. Use the functions in the public API at pandas.testing instead.\n",
            "\n"
          ],
          "name": "stderr"
        }
      ]
    },
    {
      "cell_type": "code",
      "metadata": {
        "id": "lprntn17L15O"
      },
      "source": [
        "# Errors\n",
        "def calc_errors(test, preds):\n",
        "    percentiles = [5, 25, 50, 75, 95]\n",
        "    elementwise_mae = np.absolute(np.subtract(preds, test))\n",
        "    # Mean mae\n",
        "    mean_mae = sum(elementwise_mae) / len(test)\n",
        "    print(f\"Mean MAE: {mean_mae:.2f}\")\n",
        "    percent_mae = sum(elementwise_mae) / sum(test)\n",
        "    print(f\"MAE%: {percent_mae * 100:.2f}%\")\n",
        "    # Rmse\n",
        "    rmse = np.sqrt(np.mean(np.power(np.subtract(preds, test), 2)))\n",
        "    print(f\"RMSE: {rmse:.2f}\")\n",
        "    # Bias\n",
        "    bias = np.mean(np.subtract(preds, test))\n",
        "    print(f\"Bias: {bias:.2f}\\n\")\n",
        "    # Mae distrib\n",
        "    distr_mae = []\n",
        "    for perc in percentiles:\n",
        "        temp_mae = np.percentile(elementwise_mae, perc)\n",
        "        distr_mae.append(temp_mae)\n",
        "        print(f\"{perc}th percetile MAE: {temp_mae:.2f}\")\n",
        "    # Plot MAE distribution\n",
        "    plt.figure(figsize=(8, 8))\n",
        "    plt.title('MAE distribution')\n",
        "    plt.xlabel('MAE')\n",
        "    plt.ylabel('Count')\n",
        "    # Plot distr\n",
        "    plt.hist(elementwise_mae, bins=30)\n",
        "    # plot mean MAE\n",
        "    plt.axvline(x=mean_mae, label='Mean MAE', c='r', linestyle='-')\n",
        "    # plot percentiles\n",
        "    line_types = [':', '-.', '--', '-.', ':']\n",
        "    for xc, lt, p in zip(distr_mae, line_types, percentiles):\n",
        "        plt.axvline(x=xc, label='{}th percentile MAE'.format(p), c='r', linestyle=lt)\n",
        "    plt.legend()\n",
        "    plt.show()"
      ],
      "execution_count": null,
      "outputs": []
    },
    {
      "cell_type": "code",
      "metadata": {
        "id": "nS9sT6BwL57F"
      },
      "source": [
        "start = pd.to_datetime('2010-01-01')\n",
        "end = date.today()"
      ],
      "execution_count": null,
      "outputs": []
    },
    {
      "cell_type": "markdown",
      "metadata": {
        "id": "J8RRpT3cRQ67"
      },
      "source": [
        "### Data from Yahoo Finance"
      ]
    },
    {
      "cell_type": "code",
      "metadata": {
        "id": "IlxzZaCsL-A3"
      },
      "source": [
        "# In yfinance\n",
        "tickers_to_download = ['EURUSD=X', 'GBPUSD=X', 'USDCHF=X', 'USDJPY=X', 'EURJPY=X', 'USDCAD=X', 'AUDUSD=X']"
      ],
      "execution_count": null,
      "outputs": []
    },
    {
      "cell_type": "code",
      "metadata": {
        "colab": {
          "base_uri": "https://localhost:8080/"
        },
        "id": "-0FOw3BnMUa1",
        "outputId": "2f4cca88-e9da-4614-c3c8-e5f255dbd674"
      },
      "source": [
        "forex_df_list = []\n",
        "\n",
        "for ticker in tickers_to_download:\n",
        "  ts = yf.download(ticker, start, end)['Close']\n",
        "  ts = ts.rename(ticker.lower().split('=', 1)[0] + '_close')\n",
        "  forex_df_list.append(ts)\n",
        "\n",
        "forex_df = pd.concat(forex_df_list, axis=1)"
      ],
      "execution_count": null,
      "outputs": [
        {
          "output_type": "stream",
          "text": [
            "[*********************100%***********************]  1 of 1 completed\n",
            "[*********************100%***********************]  1 of 1 completed\n",
            "[*********************100%***********************]  1 of 1 completed\n",
            "[*********************100%***********************]  1 of 1 completed\n",
            "[*********************100%***********************]  1 of 1 completed\n",
            "[*********************100%***********************]  1 of 1 completed\n",
            "[*********************100%***********************]  1 of 1 completed\n"
          ],
          "name": "stdout"
        }
      ]
    },
    {
      "cell_type": "code",
      "metadata": {
        "id": "e8mFVrm8MVIe"
      },
      "source": [
        "# In order to forecast the series we need to: 1. \n",
        "\n",
        "forex_df['ds'] = forex_df.index\n",
        "forex_df['y'] = forex_df['eurusd_close'].values\n"
      ],
      "execution_count": null,
      "outputs": []
    },
    {
      "cell_type": "markdown",
      "metadata": {
        "id": "tmzK-U-USt-p"
      },
      "source": [
        "### Extra regressors from Lab"
      ]
    },
    {
      "cell_type": "code",
      "metadata": {
        "id": "W42VCg5JMiNI"
      },
      "source": [
        "def get_new_data():\n",
        "    url_extra = 'https://drive.google.com/file/d/1CT91MvzT2-WLK6rTdDu4-vBdj0kyfDP5/view?usp=sharing'\n",
        "    url_covid = 'https://drive.google.com/file/d/1ZlwZtSdtxlTlP2RUZtYjqpVSiaXMEzXO/view?usp=sharing'\n",
        "\n",
        "    file_id = url_extra.split('/')[-2]\n",
        "    dwn_url = 'https://drive.google.com/uc?id=' + file_id\n",
        "    df_extra = pd.read_csv(dwn_url, parse_dates=['DATE'])\n",
        "\n",
        "    file_id = url_covid.split('/')[-2]\n",
        "    dwn_url = 'https://drive.google.com/uc?id=' + file_id\n",
        "    df_covid = pd.read_csv(dwn_url, parse_dates=['date'])\n",
        "\n",
        "    return df_extra, df_covid"
      ],
      "execution_count": null,
      "outputs": []
    },
    {
      "cell_type": "code",
      "metadata": {
        "colab": {
          "base_uri": "https://localhost:8080/",
          "height": 450
        },
        "id": "1a2tuUc_MkpJ",
        "outputId": "0893464d-0b3c-441e-b2d4-858808509085"
      },
      "source": [
        "# extra regressors from LAB\n",
        "extra_df, df_covid = get_new_data()\n",
        "\n",
        "extra_df.set_index('DATE',inplace=True)\n",
        "# remap column name\n",
        "map_dict = {'CPIAUCSL':'consumer_price_index', 'GDP':'GDP_US', 'T10YIE':'inflation'}\n",
        "extra_df = extra_df.rename(columns=map_dict)\n",
        "# group data for each continent and sum the number of new cases\n",
        "df_covid_g = df_covid.groupby(['continent','date']).agg({'new_cases':'sum'})\n",
        "extra_df"
      ],
      "execution_count": null,
      "outputs": [
        {
          "output_type": "execute_result",
          "data": {
            "text/html": [
              "<div>\n",
              "<style scoped>\n",
              "    .dataframe tbody tr th:only-of-type {\n",
              "        vertical-align: middle;\n",
              "    }\n",
              "\n",
              "    .dataframe tbody tr th {\n",
              "        vertical-align: top;\n",
              "    }\n",
              "\n",
              "    .dataframe thead th {\n",
              "        text-align: right;\n",
              "    }\n",
              "</style>\n",
              "<table border=\"1\" class=\"dataframe\">\n",
              "  <thead>\n",
              "    <tr style=\"text-align: right;\">\n",
              "      <th></th>\n",
              "      <th>consumer_price_index</th>\n",
              "      <th>GDP_US</th>\n",
              "      <th>inflation</th>\n",
              "    </tr>\n",
              "    <tr>\n",
              "      <th>DATE</th>\n",
              "      <th></th>\n",
              "      <th></th>\n",
              "      <th></th>\n",
              "    </tr>\n",
              "  </thead>\n",
              "  <tbody>\n",
              "    <tr>\n",
              "      <th>1947-01-01</th>\n",
              "      <td>21.480</td>\n",
              "      <td>243.164</td>\n",
              "      <td>NaN</td>\n",
              "    </tr>\n",
              "    <tr>\n",
              "      <th>1947-01-02</th>\n",
              "      <td>21.480</td>\n",
              "      <td>243.164</td>\n",
              "      <td>NaN</td>\n",
              "    </tr>\n",
              "    <tr>\n",
              "      <th>1947-01-03</th>\n",
              "      <td>21.480</td>\n",
              "      <td>243.164</td>\n",
              "      <td>NaN</td>\n",
              "    </tr>\n",
              "    <tr>\n",
              "      <th>1947-01-04</th>\n",
              "      <td>21.480</td>\n",
              "      <td>243.164</td>\n",
              "      <td>NaN</td>\n",
              "    </tr>\n",
              "    <tr>\n",
              "      <th>1947-01-05</th>\n",
              "      <td>21.480</td>\n",
              "      <td>243.164</td>\n",
              "      <td>NaN</td>\n",
              "    </tr>\n",
              "    <tr>\n",
              "      <th>...</th>\n",
              "      <td>...</td>\n",
              "      <td>...</td>\n",
              "      <td>...</td>\n",
              "    </tr>\n",
              "    <tr>\n",
              "      <th>2021-05-16</th>\n",
              "      <td>266.832</td>\n",
              "      <td>22048.894</td>\n",
              "      <td>2.51</td>\n",
              "    </tr>\n",
              "    <tr>\n",
              "      <th>2021-05-17</th>\n",
              "      <td>266.832</td>\n",
              "      <td>22048.894</td>\n",
              "      <td>2.54</td>\n",
              "    </tr>\n",
              "    <tr>\n",
              "      <th>2021-05-18</th>\n",
              "      <td>266.832</td>\n",
              "      <td>22048.894</td>\n",
              "      <td>2.52</td>\n",
              "    </tr>\n",
              "    <tr>\n",
              "      <th>2021-05-19</th>\n",
              "      <td>266.832</td>\n",
              "      <td>22048.894</td>\n",
              "      <td>2.48</td>\n",
              "    </tr>\n",
              "    <tr>\n",
              "      <th>2021-05-20</th>\n",
              "      <td>266.832</td>\n",
              "      <td>22048.894</td>\n",
              "      <td>2.41</td>\n",
              "    </tr>\n",
              "  </tbody>\n",
              "</table>\n",
              "<p>27169 rows × 3 columns</p>\n",
              "</div>"
            ],
            "text/plain": [
              "            consumer_price_index     GDP_US  inflation\n",
              "DATE                                                  \n",
              "1947-01-01                21.480    243.164        NaN\n",
              "1947-01-02                21.480    243.164        NaN\n",
              "1947-01-03                21.480    243.164        NaN\n",
              "1947-01-04                21.480    243.164        NaN\n",
              "1947-01-05                21.480    243.164        NaN\n",
              "...                          ...        ...        ...\n",
              "2021-05-16               266.832  22048.894       2.51\n",
              "2021-05-17               266.832  22048.894       2.54\n",
              "2021-05-18               266.832  22048.894       2.52\n",
              "2021-05-19               266.832  22048.894       2.48\n",
              "2021-05-20               266.832  22048.894       2.41\n",
              "\n",
              "[27169 rows x 3 columns]"
            ]
          },
          "metadata": {
            "tags": []
          },
          "execution_count": 9
        }
      ]
    },
    {
      "cell_type": "code",
      "metadata": {
        "colab": {
          "base_uri": "https://localhost:8080/",
          "height": 731
        },
        "id": "D57_t20tMoSV",
        "collapsed": true,
        "outputId": "3f7f075f-c749-459c-821e-b1968e61ebad"
      },
      "source": [
        "# ADDING new dates information to extra_df - CPI & GDP are dummy values - will be dropped before modeling - ONLY INFLATION IS TAKEN\n",
        "data_missing = pd.read_csv(\"https://docs.google.com/spreadsheets/d/e/2PACX-1vRAGPsbAGlw1ahNQEm2wfJdXVyPDBPruORMdqeaEHxYMdEMY96INtxwXLnxZHBuU_nU57iwjgIv8RrN/pub?output=csv\",parse_dates=['DATE'])\n",
        "data_missing.set_index('DATE',inplace=True)\n",
        "data_missing"
      ],
      "execution_count": null,
      "outputs": [
        {
          "output_type": "execute_result",
          "data": {
            "text/html": [
              "<div>\n",
              "<style scoped>\n",
              "    .dataframe tbody tr th:only-of-type {\n",
              "        vertical-align: middle;\n",
              "    }\n",
              "\n",
              "    .dataframe tbody tr th {\n",
              "        vertical-align: top;\n",
              "    }\n",
              "\n",
              "    .dataframe thead th {\n",
              "        text-align: right;\n",
              "    }\n",
              "</style>\n",
              "<table border=\"1\" class=\"dataframe\">\n",
              "  <thead>\n",
              "    <tr style=\"text-align: right;\">\n",
              "      <th></th>\n",
              "      <th>consumer_price_index</th>\n",
              "      <th>GDP_US</th>\n",
              "      <th>inflation</th>\n",
              "    </tr>\n",
              "    <tr>\n",
              "      <th>DATE</th>\n",
              "      <th></th>\n",
              "      <th></th>\n",
              "      <th></th>\n",
              "    </tr>\n",
              "  </thead>\n",
              "  <tbody>\n",
              "    <tr>\n",
              "      <th>2021-05-21</th>\n",
              "      <td>266.832</td>\n",
              "      <td>22048.894</td>\n",
              "      <td>2.43</td>\n",
              "    </tr>\n",
              "    <tr>\n",
              "      <th>2021-05-24</th>\n",
              "      <td>266.832</td>\n",
              "      <td>22048.894</td>\n",
              "      <td>2.44</td>\n",
              "    </tr>\n",
              "    <tr>\n",
              "      <th>2021-05-25</th>\n",
              "      <td>266.832</td>\n",
              "      <td>22048.894</td>\n",
              "      <td>2.42</td>\n",
              "    </tr>\n",
              "    <tr>\n",
              "      <th>2021-05-26</th>\n",
              "      <td>266.832</td>\n",
              "      <td>22048.894</td>\n",
              "      <td>2.40</td>\n",
              "    </tr>\n",
              "    <tr>\n",
              "      <th>2021-05-27</th>\n",
              "      <td>266.832</td>\n",
              "      <td>22048.894</td>\n",
              "      <td>2.42</td>\n",
              "    </tr>\n",
              "    <tr>\n",
              "      <th>2021-05-28</th>\n",
              "      <td>266.832</td>\n",
              "      <td>22048.894</td>\n",
              "      <td>2.42</td>\n",
              "    </tr>\n",
              "    <tr>\n",
              "      <th>2021-05-31</th>\n",
              "      <td>266.832</td>\n",
              "      <td>22048.894</td>\n",
              "      <td>2.42</td>\n",
              "    </tr>\n",
              "    <tr>\n",
              "      <th>2021-06-01</th>\n",
              "      <td>266.832</td>\n",
              "      <td>22048.894</td>\n",
              "      <td>2.46</td>\n",
              "    </tr>\n",
              "    <tr>\n",
              "      <th>2021-06-02</th>\n",
              "      <td>266.832</td>\n",
              "      <td>22048.894</td>\n",
              "      <td>2.44</td>\n",
              "    </tr>\n",
              "    <tr>\n",
              "      <th>2021-06-03</th>\n",
              "      <td>266.832</td>\n",
              "      <td>22048.894</td>\n",
              "      <td>2.42</td>\n",
              "    </tr>\n",
              "    <tr>\n",
              "      <th>2021-06-04</th>\n",
              "      <td>266.832</td>\n",
              "      <td>22048.894</td>\n",
              "      <td>2.40</td>\n",
              "    </tr>\n",
              "    <tr>\n",
              "      <th>2021-06-07</th>\n",
              "      <td>266.832</td>\n",
              "      <td>22048.894</td>\n",
              "      <td>2.39</td>\n",
              "    </tr>\n",
              "    <tr>\n",
              "      <th>2021-06-08</th>\n",
              "      <td>266.832</td>\n",
              "      <td>22048.894</td>\n",
              "      <td>2.36</td>\n",
              "    </tr>\n",
              "    <tr>\n",
              "      <th>2021-06-09</th>\n",
              "      <td>266.832</td>\n",
              "      <td>22048.894</td>\n",
              "      <td>2.32</td>\n",
              "    </tr>\n",
              "    <tr>\n",
              "      <th>2021-06-10</th>\n",
              "      <td>266.832</td>\n",
              "      <td>22048.894</td>\n",
              "      <td>2.35</td>\n",
              "    </tr>\n",
              "    <tr>\n",
              "      <th>2021-06-11</th>\n",
              "      <td>266.832</td>\n",
              "      <td>22048.894</td>\n",
              "      <td>2.32</td>\n",
              "    </tr>\n",
              "    <tr>\n",
              "      <th>2021-06-14</th>\n",
              "      <td>266.832</td>\n",
              "      <td>22048.894</td>\n",
              "      <td>2.36</td>\n",
              "    </tr>\n",
              "    <tr>\n",
              "      <th>2021-06-15</th>\n",
              "      <td>266.832</td>\n",
              "      <td>22048.894</td>\n",
              "      <td>2.38</td>\n",
              "    </tr>\n",
              "    <tr>\n",
              "      <th>2021-06-16</th>\n",
              "      <td>266.832</td>\n",
              "      <td>22048.894</td>\n",
              "      <td>2.32</td>\n",
              "    </tr>\n",
              "    <tr>\n",
              "      <th>2021-06-17</th>\n",
              "      <td>266.832</td>\n",
              "      <td>22048.894</td>\n",
              "      <td>2.27</td>\n",
              "    </tr>\n",
              "    <tr>\n",
              "      <th>2021-06-18</th>\n",
              "      <td>266.832</td>\n",
              "      <td>22048.894</td>\n",
              "      <td>2.24</td>\n",
              "    </tr>\n",
              "  </tbody>\n",
              "</table>\n",
              "</div>"
            ],
            "text/plain": [
              "            consumer_price_index     GDP_US  inflation\n",
              "DATE                                                  \n",
              "2021-05-21               266.832  22048.894       2.43\n",
              "2021-05-24               266.832  22048.894       2.44\n",
              "2021-05-25               266.832  22048.894       2.42\n",
              "2021-05-26               266.832  22048.894       2.40\n",
              "2021-05-27               266.832  22048.894       2.42\n",
              "2021-05-28               266.832  22048.894       2.42\n",
              "2021-05-31               266.832  22048.894       2.42\n",
              "2021-06-01               266.832  22048.894       2.46\n",
              "2021-06-02               266.832  22048.894       2.44\n",
              "2021-06-03               266.832  22048.894       2.42\n",
              "2021-06-04               266.832  22048.894       2.40\n",
              "2021-06-07               266.832  22048.894       2.39\n",
              "2021-06-08               266.832  22048.894       2.36\n",
              "2021-06-09               266.832  22048.894       2.32\n",
              "2021-06-10               266.832  22048.894       2.35\n",
              "2021-06-11               266.832  22048.894       2.32\n",
              "2021-06-14               266.832  22048.894       2.36\n",
              "2021-06-15               266.832  22048.894       2.38\n",
              "2021-06-16               266.832  22048.894       2.32\n",
              "2021-06-17               266.832  22048.894       2.27\n",
              "2021-06-18               266.832  22048.894       2.24"
            ]
          },
          "metadata": {
            "tags": []
          },
          "execution_count": 10
        }
      ]
    },
    {
      "cell_type": "code",
      "metadata": {
        "id": "rPIF9sqpMuge"
      },
      "source": [
        "# NEW INFO WITH extra_df\n",
        "extra_df_nw = pd.concat([extra_df, data_missing])"
      ],
      "execution_count": null,
      "outputs": []
    },
    {
      "cell_type": "markdown",
      "metadata": {
        "id": "Ykzl2vFzRz5M"
      },
      "source": [
        "### Extra data for US Unemploymnet, US Interest, EU Interest, EU Repo"
      ]
    },
    {
      "cell_type": "code",
      "metadata": {
        "colab": {
          "base_uri": "https://localhost:8080/"
        },
        "id": "1sNE_bPLMcon",
        "outputId": "7978a5a6-51ad-42c9-a520-e09268fc2831"
      },
      "source": [
        "# EXTRA REGRESSORS BY RESEARCH - US UNEMPLOYMENT - US INTEREST - EU INTEREST - EU REPO - RATES\n",
        "\n",
        "us_eu_data = pd.read_csv('https://docs.google.com/spreadsheets/d/e/2PACX-1vQOMpnxzYuFaD3pyVLxIoZ_UDf_U8Xy_cPCPf2tmxCXTVA2pn6i9nkBRlXkQj-jLZtinM-gCEFbkPuK/pub?output=csv')\n",
        "\n",
        "#convert to datetimeindex\n",
        "us_eu_data.index = pd.to_datetime(us_eu_data.DATE, dayfirst=True)\n",
        "\n",
        "#add new next month for correct resample\n",
        "idx = us_eu_data.index[-1] + pd.offsets.MonthBegin(1)\n",
        "\n",
        "us_eu_data = us_eu_data.append(us_eu_data.iloc[[-1]].rename({us_eu_data.index[-1]: idx}))\n",
        "\n",
        "#resample with forward filling values, remove last helper row\n",
        "us_eu_data_new = us_eu_data.resample('D').ffill().iloc[:-1]\n",
        "# us_eu_data_new = us_eu_data.resample('W').ffill().iloc[:-1]\n",
        "\n",
        "us_eu_data_new.drop('DATE', axis =1, inplace = True)\n",
        "print (us_eu_data_new)\n",
        "# us_eu_data"
      ],
      "execution_count": null,
      "outputs": [
        {
          "output_type": "stream",
          "text": [
            "            US_UNRATE  FEDFUNDS  EU_INTEREST  EU_REPO\n",
            "DATE                                                 \n",
            "2010-01-01        9.8      0.11         0.43     0.52\n",
            "2010-01-02        9.8      0.11         0.43     0.52\n",
            "2010-01-03        9.8      0.11         0.43     0.52\n",
            "2010-01-04        9.8      0.11         0.43     0.52\n",
            "2010-01-05        9.8      0.11         0.43     0.52\n",
            "...               ...       ...          ...      ...\n",
            "2021-05-27        5.8      0.06         0.01     0.09\n",
            "2021-05-28        5.8      0.06         0.01     0.09\n",
            "2021-05-29        5.8      0.06         0.01     0.09\n",
            "2021-05-30        5.8      0.06         0.01     0.09\n",
            "2021-05-31        5.8      0.06         0.01     0.09\n",
            "\n",
            "[4169 rows x 4 columns]\n"
          ],
          "name": "stdout"
        }
      ]
    },
    {
      "cell_type": "markdown",
      "metadata": {
        "id": "mfwpsCn_S2PS"
      },
      "source": [
        "### Live data of Covid"
      ]
    },
    {
      "cell_type": "code",
      "metadata": {
        "id": "fnN0yn0_OQXh"
      },
      "source": [
        "# FOR COVID LETS TAKE LIVE DATA - IGNORE DATA FROM LAB\n",
        "\n",
        "covid_daily = pd.read_csv(\"https://raw.githubusercontent.com/owid/covid-19-data/master/public/data/owid-covid-data.csv\",parse_dates=['date'])\n",
        "covid_daily_agg = covid_daily.groupby(['continent','date']).agg({'new_cases':'sum'})"
      ],
      "execution_count": null,
      "outputs": []
    },
    {
      "cell_type": "code",
      "metadata": {
        "colab": {
          "base_uri": "https://localhost:8080/",
          "height": 350
        },
        "id": "LmbAID64NFNK",
        "outputId": "e3ffc95c-cfd2-40e5-8204-5a128e122d1d"
      },
      "source": [
        "# plot timeseries\n",
        "fig, ax = plt.subplots(1,3, figsize=(20,5))\n",
        "for idx, col in enumerate(extra_df):\n",
        "  extra_df[col].loc[forex_df.index[0]:forex_df.index[-1]].plot(ax=ax[idx])\n",
        "  ax[idx].set_title(col)"
      ],
      "execution_count": null,
      "outputs": [
        {
          "output_type": "display_data",
          "data": {
            "image/png": "[encoded data removed]",
            "text/plain": [
              "<Figure size 1440x360 with 3 Axes>"
            ]
          },
          "metadata": {
            "tags": [],
            "needs_background": "light"
          }
        }
      ]
    },
    {
      "cell_type": "code",
      "metadata": {
        "colab": {
          "base_uri": "https://localhost:8080/",
          "height": 350
        },
        "id": "MPFuaKfLNHkH",
        "outputId": "44be0881-0077-499e-eeae-555d0d087605"
      },
      "source": [
        "# plot timeseries - extra regressors\n",
        "fig, ax = plt.subplots(1,4, figsize=(20,5))\n",
        "for idx, col in enumerate(us_eu_data_new):\n",
        "  us_eu_data_new[col].loc[forex_df.index[0]:forex_df.index[-1]].plot(ax=ax[idx])\n",
        "  ax[idx].set_title(col)"
      ],
      "execution_count": null,
      "outputs": [
        {
          "output_type": "display_data",
          "data": {
            "image/png": "[encoded data removed]",
            "text/plain": [
              "<Figure size 1440x360 with 4 Axes>"
            ]
          },
          "metadata": {
            "tags": [],
            "needs_background": "light"
          }
        }
      ]
    },
    {
      "cell_type": "code",
      "metadata": {
        "id": "84OdbGopNIYP"
      },
      "source": [
        "# merge the data in a single dataframe to explore timeseries correlation\n",
        "forex_df_reg = forex_df.merge(extra_df_nw, left_index=True, right_index=True, how='left')\n",
        "\n",
        "forex_df_reg = forex_df_reg.merge(covid_daily_agg.loc['North America'].rename(columns={'new_cases':'covid_US'}), left_index=True, right_index=True, how='left')\n",
        "forex_df_reg = forex_df_reg.merge(covid_daily_agg.loc['Europe'].rename(columns={'new_cases':'covid_EU'}), left_index=True, right_index=True, how='left')\n",
        "forex_df_reg['covid_US'] = forex_df_reg['covid_US'].fillna(0)\n",
        "forex_df_reg['covid_EU'] = forex_df_reg['covid_EU'].fillna(0)\n",
        "forex_df_reg = forex_df_reg.merge(us_eu_data_new, left_index=True, right_index=True, how='left')\n",
        "forex_dfn2 = forex_df_reg \n"
      ],
      "execution_count": null,
      "outputs": []
    },
    {
      "cell_type": "code",
      "metadata": {
        "id": "ry23mu6qLgQY"
      },
      "source": [
        "nlp_regres = pd.read_csv('regressor (1).csv')\n",
        "nlp_regres = nlp_regres.drop('date.1',axis=1)"
      ],
      "execution_count": null,
      "outputs": []
    },
    {
      "cell_type": "code",
      "metadata": {
        "id": "pnj9_7FrQDpi"
      },
      "source": [
        "nlp_regres.index = pd.to_datetime(nlp_regres.date, dayfirst=True)\n",
        "nlp_regres.drop('date',axis=1,inplace=True)"
      ],
      "execution_count": null,
      "outputs": []
    },
    {
      "cell_type": "code",
      "metadata": {
        "id": "5GsAqIDbOaPy"
      },
      "source": [
        "forex_dfn2 = pd.merge(forex_dfn2, nlp_regres, left_index = True, how='left' ,right_index=True)"
      ],
      "execution_count": null,
      "outputs": []
    },
    {
      "cell_type": "code",
      "metadata": {
        "colab": {
          "base_uri": "https://localhost:8080/",
          "height": 606
        },
        "id": "KJ2B4EdsNOPZ",
        "outputId": "05f531bf-bc60-462b-e186-393e2c4d7107"
      },
      "source": [
        "# explore correlation\n",
        "fig, ax = plt.subplots(figsize=(12,8))\n",
        "sns.heatmap(forex_dfn2.corr(), annot=True, ax=ax)"
      ],
      "execution_count": null,
      "outputs": [
        {
          "output_type": "execute_result",
          "data": {
            "text/plain": [
              "<matplotlib.axes._subplots.AxesSubplot at 0x7f9c97381890>"
            ]
          },
          "metadata": {
            "tags": []
          },
          "execution_count": 20
        },
        {
          "output_type": "display_data",
          "data": {
            "image/png": "[encoded data removed]",
            "text/plain": [
              "<Figure size 864x576 with 2 Axes>"
            ]
          },
          "metadata": {
            "tags": [],
            "needs_background": "light"
          }
        }
      ]
    },
    {
      "cell_type": "markdown",
      "metadata": {
        "id": "yJef7Ay-TZ-j"
      },
      "source": [
        "---\n",
        "## Part 2: FOREX of 2 consecutive weeks \n",
        "Although with regressors we selected the model has a good performance, the forecast is based on the information at the same time. It's kind of \"cheating\". So to improve the performance, we biuld a ARIMA model to forecast the behavior of the extra regressors first and then use the forecast of the regressors to do the prediction."
      ]
    },
    {
      "cell_type": "code",
      "metadata": {
        "id": "BA2EMLmolZxc",
        "colab": {
          "base_uri": "https://localhost:8080/"
        },
        "outputId": "8f4b9bfb-5c99-4769-a2b6-bc89bf875a55"
      },
      "source": [
        "# redefine test and train window\n",
        "train = forex_dfn2.iloc[:-14,:]\n",
        "test = forex_dfn2.iloc[-14:,:]\n",
        "train['ds'] = train.index\n",
        "train['y'] = train['eurusd_close'].values"
      ],
      "execution_count": null,
      "outputs": [
        {
          "output_type": "stream",
          "text": [
            "/usr/local/lib/python3.7/dist-packages/ipykernel_launcher.py:4: SettingWithCopyWarning:\n",
            "\n",
            "\n",
            "A value is trying to be set on a copy of a slice from a DataFrame.\n",
            "Try using .loc[row_indexer,col_indexer] = value instead\n",
            "\n",
            "See the caveats in the documentation: https://pandas.pydata.org/pandas-docs/stable/user_guide/indexing.html#returning-a-view-versus-a-copy\n",
            "\n",
            "/usr/local/lib/python3.7/dist-packages/ipykernel_launcher.py:5: SettingWithCopyWarning:\n",
            "\n",
            "\n",
            "A value is trying to be set on a copy of a slice from a DataFrame.\n",
            "Try using .loc[row_indexer,col_indexer] = value instead\n",
            "\n",
            "See the caveats in the documentation: https://pandas.pydata.org/pandas-docs/stable/user_guide/indexing.html#returning-a-view-versus-a-copy\n",
            "\n"
          ],
          "name": "stderr"
        }
      ]
    },
    {
      "cell_type": "code",
      "metadata": {
        "colab": {
          "base_uri": "https://localhost:8080/",
          "height": 640
        },
        "id": "1yBOGu4S4VBE",
        "outputId": "5e33fbe9-07f3-4214-a1c6-daaa3b110490"
      },
      "source": [
        "train = train.dropna()\n",
        "extra_regressor = ['covid_US', 'covid_EU','gbpusd_close','eurjpy_close','consumer_price_index', 'GDP_US', 'inflation',\n",
        "       'US_UNRATE', 'FEDFUNDS', 'EU_INTEREST', 'EU_REPO','usdcad_close', 'audusd_close','usdjpy_close','sentiment1']\n",
        "       \n",
        "regress = train[extra_regressor]\n",
        "regress"
      ],
      "execution_count": null,
      "outputs": [
        {
          "output_type": "execute_result",
          "data": {
            "text/html": [
              "<div>\n",
              "<style scoped>\n",
              "    .dataframe tbody tr th:only-of-type {\n",
              "        vertical-align: middle;\n",
              "    }\n",
              "\n",
              "    .dataframe tbody tr th {\n",
              "        vertical-align: top;\n",
              "    }\n",
              "\n",
              "    .dataframe thead th {\n",
              "        text-align: right;\n",
              "    }\n",
              "</style>\n",
              "<table border=\"1\" class=\"dataframe\">\n",
              "  <thead>\n",
              "    <tr style=\"text-align: right;\">\n",
              "      <th></th>\n",
              "      <th>covid_US</th>\n",
              "      <th>covid_EU</th>\n",
              "      <th>gbpusd_close</th>\n",
              "      <th>eurjpy_close</th>\n",
              "      <th>consumer_price_index</th>\n",
              "      <th>GDP_US</th>\n",
              "      <th>inflation</th>\n",
              "      <th>US_UNRATE</th>\n",
              "      <th>FEDFUNDS</th>\n",
              "      <th>EU_INTEREST</th>\n",
              "      <th>EU_REPO</th>\n",
              "      <th>usdcad_close</th>\n",
              "      <th>audusd_close</th>\n",
              "      <th>usdjpy_close</th>\n",
              "      <th>sentiment1</th>\n",
              "    </tr>\n",
              "    <tr>\n",
              "      <th>Date</th>\n",
              "      <th></th>\n",
              "      <th></th>\n",
              "      <th></th>\n",
              "      <th></th>\n",
              "      <th></th>\n",
              "      <th></th>\n",
              "      <th></th>\n",
              "      <th></th>\n",
              "      <th></th>\n",
              "      <th></th>\n",
              "      <th></th>\n",
              "      <th></th>\n",
              "      <th></th>\n",
              "      <th></th>\n",
              "      <th></th>\n",
              "    </tr>\n",
              "  </thead>\n",
              "  <tbody>\n",
              "    <tr>\n",
              "      <th>2018-01-02</th>\n",
              "      <td>0.0</td>\n",
              "      <td>0.0</td>\n",
              "      <td>1.351132</td>\n",
              "      <td>135.440002</td>\n",
              "      <td>248.721</td>\n",
              "      <td>20242.215</td>\n",
              "      <td>2.00</td>\n",
              "      <td>4.0</td>\n",
              "      <td>1.41</td>\n",
              "      <td>0.04</td>\n",
              "      <td>0.09</td>\n",
              "      <td>1.25550</td>\n",
              "      <td>0.780104</td>\n",
              "      <td>112.769997</td>\n",
              "      <td>0.5</td>\n",
              "    </tr>\n",
              "    <tr>\n",
              "      <th>2018-01-03</th>\n",
              "      <td>0.0</td>\n",
              "      <td>0.0</td>\n",
              "      <td>1.359619</td>\n",
              "      <td>135.401001</td>\n",
              "      <td>248.721</td>\n",
              "      <td>20242.215</td>\n",
              "      <td>1.98</td>\n",
              "      <td>4.0</td>\n",
              "      <td>1.41</td>\n",
              "      <td>0.04</td>\n",
              "      <td>0.09</td>\n",
              "      <td>1.25039</td>\n",
              "      <td>0.783392</td>\n",
              "      <td>112.244003</td>\n",
              "      <td>0.0</td>\n",
              "    </tr>\n",
              "    <tr>\n",
              "      <th>2018-01-04</th>\n",
              "      <td>0.0</td>\n",
              "      <td>0.0</td>\n",
              "      <td>1.351132</td>\n",
              "      <td>135.233994</td>\n",
              "      <td>248.721</td>\n",
              "      <td>20242.215</td>\n",
              "      <td>2.01</td>\n",
              "      <td>4.0</td>\n",
              "      <td>1.41</td>\n",
              "      <td>0.04</td>\n",
              "      <td>0.09</td>\n",
              "      <td>1.25469</td>\n",
              "      <td>0.782840</td>\n",
              "      <td>112.607002</td>\n",
              "      <td>0.0</td>\n",
              "    </tr>\n",
              "    <tr>\n",
              "      <th>2018-01-11</th>\n",
              "      <td>0.0</td>\n",
              "      <td>0.0</td>\n",
              "      <td>1.351278</td>\n",
              "      <td>133.237000</td>\n",
              "      <td>248.721</td>\n",
              "      <td>20242.215</td>\n",
              "      <td>2.00</td>\n",
              "      <td>4.0</td>\n",
              "      <td>1.41</td>\n",
              "      <td>0.04</td>\n",
              "      <td>0.09</td>\n",
              "      <td>1.25306</td>\n",
              "      <td>0.784732</td>\n",
              "      <td>111.444000</td>\n",
              "      <td>0.0</td>\n",
              "    </tr>\n",
              "    <tr>\n",
              "      <th>2018-01-12</th>\n",
              "      <td>0.0</td>\n",
              "      <td>0.0</td>\n",
              "      <td>1.354188</td>\n",
              "      <td>134.014008</td>\n",
              "      <td>248.721</td>\n",
              "      <td>20242.215</td>\n",
              "      <td>2.01</td>\n",
              "      <td>4.0</td>\n",
              "      <td>1.41</td>\n",
              "      <td>0.04</td>\n",
              "      <td>0.09</td>\n",
              "      <td>1.25190</td>\n",
              "      <td>0.788581</td>\n",
              "      <td>111.293999</td>\n",
              "      <td>1.0</td>\n",
              "    </tr>\n",
              "    <tr>\n",
              "      <th>...</th>\n",
              "      <td>...</td>\n",
              "      <td>...</td>\n",
              "      <td>...</td>\n",
              "      <td>...</td>\n",
              "      <td>...</td>\n",
              "      <td>...</td>\n",
              "      <td>...</td>\n",
              "      <td>...</td>\n",
              "      <td>...</td>\n",
              "      <td>...</td>\n",
              "      <td>...</td>\n",
              "      <td>...</td>\n",
              "      <td>...</td>\n",
              "      <td>...</td>\n",
              "      <td>...</td>\n",
              "    </tr>\n",
              "    <tr>\n",
              "      <th>2021-05-25</th>\n",
              "      <td>37309.0</td>\n",
              "      <td>50746.0</td>\n",
              "      <td>1.415609</td>\n",
              "      <td>132.919998</td>\n",
              "      <td>266.832</td>\n",
              "      <td>22048.894</td>\n",
              "      <td>2.42</td>\n",
              "      <td>5.8</td>\n",
              "      <td>0.06</td>\n",
              "      <td>0.01</td>\n",
              "      <td>0.09</td>\n",
              "      <td>1.20498</td>\n",
              "      <td>0.775080</td>\n",
              "      <td>108.850998</td>\n",
              "      <td>0.0</td>\n",
              "    </tr>\n",
              "    <tr>\n",
              "      <th>2021-05-26</th>\n",
              "      <td>37924.0</td>\n",
              "      <td>61391.0</td>\n",
              "      <td>1.414387</td>\n",
              "      <td>133.235992</td>\n",
              "      <td>266.832</td>\n",
              "      <td>22048.894</td>\n",
              "      <td>2.40</td>\n",
              "      <td>5.8</td>\n",
              "      <td>0.06</td>\n",
              "      <td>0.01</td>\n",
              "      <td>0.09</td>\n",
              "      <td>1.20640</td>\n",
              "      <td>0.775314</td>\n",
              "      <td>108.802002</td>\n",
              "      <td>0.0</td>\n",
              "    </tr>\n",
              "    <tr>\n",
              "      <th>2021-05-27</th>\n",
              "      <td>43544.0</td>\n",
              "      <td>66718.0</td>\n",
              "      <td>1.411612</td>\n",
              "      <td>133.102005</td>\n",
              "      <td>266.832</td>\n",
              "      <td>22048.894</td>\n",
              "      <td>2.42</td>\n",
              "      <td>5.8</td>\n",
              "      <td>0.06</td>\n",
              "      <td>0.01</td>\n",
              "      <td>0.09</td>\n",
              "      <td>1.21301</td>\n",
              "      <td>0.773990</td>\n",
              "      <td>109.169998</td>\n",
              "      <td>1.0</td>\n",
              "    </tr>\n",
              "    <tr>\n",
              "      <th>2021-05-28</th>\n",
              "      <td>36926.0</td>\n",
              "      <td>61884.0</td>\n",
              "      <td>1.420374</td>\n",
              "      <td>133.888000</td>\n",
              "      <td>266.832</td>\n",
              "      <td>22048.894</td>\n",
              "      <td>2.42</td>\n",
              "      <td>5.8</td>\n",
              "      <td>0.06</td>\n",
              "      <td>0.01</td>\n",
              "      <td>0.09</td>\n",
              "      <td>1.20702</td>\n",
              "      <td>0.774250</td>\n",
              "      <td>109.808998</td>\n",
              "      <td>1.0</td>\n",
              "    </tr>\n",
              "    <tr>\n",
              "      <th>2021-05-31</th>\n",
              "      <td>19328.0</td>\n",
              "      <td>37598.0</td>\n",
              "      <td>1.418037</td>\n",
              "      <td>133.968002</td>\n",
              "      <td>266.832</td>\n",
              "      <td>22048.894</td>\n",
              "      <td>2.42</td>\n",
              "      <td>5.8</td>\n",
              "      <td>0.06</td>\n",
              "      <td>0.01</td>\n",
              "      <td>0.09</td>\n",
              "      <td>1.20778</td>\n",
              "      <td>0.771010</td>\n",
              "      <td>109.906998</td>\n",
              "      <td>1.0</td>\n",
              "    </tr>\n",
              "  </tbody>\n",
              "</table>\n",
              "<p>799 rows × 15 columns</p>\n",
              "</div>"
            ],
            "text/plain": [
              "            covid_US  covid_EU  ...  usdjpy_close  sentiment1\n",
              "Date                            ...                          \n",
              "2018-01-02       0.0       0.0  ...    112.769997         0.5\n",
              "2018-01-03       0.0       0.0  ...    112.244003         0.0\n",
              "2018-01-04       0.0       0.0  ...    112.607002         0.0\n",
              "2018-01-11       0.0       0.0  ...    111.444000         0.0\n",
              "2018-01-12       0.0       0.0  ...    111.293999         1.0\n",
              "...              ...       ...  ...           ...         ...\n",
              "2021-05-25   37309.0   50746.0  ...    108.850998         0.0\n",
              "2021-05-26   37924.0   61391.0  ...    108.802002         0.0\n",
              "2021-05-27   43544.0   66718.0  ...    109.169998         1.0\n",
              "2021-05-28   36926.0   61884.0  ...    109.808998         1.0\n",
              "2021-05-31   19328.0   37598.0  ...    109.906998         1.0\n",
              "\n",
              "[799 rows x 15 columns]"
            ]
          },
          "metadata": {
            "tags": []
          },
          "execution_count": 22
        }
      ]
    },
    {
      "cell_type": "code",
      "metadata": {
        "colab": {
          "base_uri": "https://localhost:8080/"
        },
        "id": "t3Y-we24aI_r",
        "outputId": "60895f07-5ae7-4726-9dcc-83e392b6d0c0"
      },
      "source": [
        "# Keeping only columns with regressors\n",
        "test = test[['ds','y']]\n",
        "test.shape"
      ],
      "execution_count": null,
      "outputs": [
        {
          "output_type": "execute_result",
          "data": {
            "text/plain": [
              "(14, 2)"
            ]
          },
          "metadata": {
            "tags": []
          },
          "execution_count": 23
        }
      ]
    },
    {
      "cell_type": "code",
      "metadata": {
        "colab": {
          "base_uri": "https://localhost:8080/"
        },
        "id": "WhuECMmjaUuD",
        "outputId": "a68e8157-a96d-48d7-9d94-e3d0442fcb6e"
      },
      "source": [
        "m = Prophet()\n",
        "m.fit(train[['ds', 'y']])"
      ],
      "execution_count": null,
      "outputs": [
        {
          "output_type": "stream",
          "text": [
            "INFO:fbprophet:Disabling daily seasonality. Run prophet with daily_seasonality=True to override this.\n"
          ],
          "name": "stderr"
        },
        {
          "output_type": "execute_result",
          "data": {
            "text/plain": [
              "<fbprophet.forecaster.Prophet at 0x7f9c8e618810>"
            ]
          },
          "metadata": {
            "tags": []
          },
          "execution_count": 24
        }
      ]
    },
    {
      "cell_type": "code",
      "metadata": {
        "colab": {
          "base_uri": "https://localhost:8080/",
          "height": 483
        },
        "id": "4aoDzj0077tY",
        "outputId": "a3883c91-b124-4eae-f285-217f914a1546"
      },
      "source": [
        "future = m.make_future_dataframe(14,freq='B',include_history=False) #ADDING 14 DAYS OF THE TEST SET\n",
        "future"
      ],
      "execution_count": null,
      "outputs": [
        {
          "output_type": "execute_result",
          "data": {
            "text/html": [
              "<div>\n",
              "<style scoped>\n",
              "    .dataframe tbody tr th:only-of-type {\n",
              "        vertical-align: middle;\n",
              "    }\n",
              "\n",
              "    .dataframe tbody tr th {\n",
              "        vertical-align: top;\n",
              "    }\n",
              "\n",
              "    .dataframe thead th {\n",
              "        text-align: right;\n",
              "    }\n",
              "</style>\n",
              "<table border=\"1\" class=\"dataframe\">\n",
              "  <thead>\n",
              "    <tr style=\"text-align: right;\">\n",
              "      <th></th>\n",
              "      <th>ds</th>\n",
              "    </tr>\n",
              "  </thead>\n",
              "  <tbody>\n",
              "    <tr>\n",
              "      <th>0</th>\n",
              "      <td>2021-06-01</td>\n",
              "    </tr>\n",
              "    <tr>\n",
              "      <th>1</th>\n",
              "      <td>2021-06-02</td>\n",
              "    </tr>\n",
              "    <tr>\n",
              "      <th>2</th>\n",
              "      <td>2021-06-03</td>\n",
              "    </tr>\n",
              "    <tr>\n",
              "      <th>3</th>\n",
              "      <td>2021-06-04</td>\n",
              "    </tr>\n",
              "    <tr>\n",
              "      <th>4</th>\n",
              "      <td>2021-06-07</td>\n",
              "    </tr>\n",
              "    <tr>\n",
              "      <th>5</th>\n",
              "      <td>2021-06-08</td>\n",
              "    </tr>\n",
              "    <tr>\n",
              "      <th>6</th>\n",
              "      <td>2021-06-09</td>\n",
              "    </tr>\n",
              "    <tr>\n",
              "      <th>7</th>\n",
              "      <td>2021-06-10</td>\n",
              "    </tr>\n",
              "    <tr>\n",
              "      <th>8</th>\n",
              "      <td>2021-06-11</td>\n",
              "    </tr>\n",
              "    <tr>\n",
              "      <th>9</th>\n",
              "      <td>2021-06-14</td>\n",
              "    </tr>\n",
              "    <tr>\n",
              "      <th>10</th>\n",
              "      <td>2021-06-15</td>\n",
              "    </tr>\n",
              "    <tr>\n",
              "      <th>11</th>\n",
              "      <td>2021-06-16</td>\n",
              "    </tr>\n",
              "    <tr>\n",
              "      <th>12</th>\n",
              "      <td>2021-06-17</td>\n",
              "    </tr>\n",
              "    <tr>\n",
              "      <th>13</th>\n",
              "      <td>2021-06-18</td>\n",
              "    </tr>\n",
              "  </tbody>\n",
              "</table>\n",
              "</div>"
            ],
            "text/plain": [
              "           ds\n",
              "0  2021-06-01\n",
              "1  2021-06-02\n",
              "2  2021-06-03\n",
              "3  2021-06-04\n",
              "4  2021-06-07\n",
              "5  2021-06-08\n",
              "6  2021-06-09\n",
              "7  2021-06-10\n",
              "8  2021-06-11\n",
              "9  2021-06-14\n",
              "10 2021-06-15\n",
              "11 2021-06-16\n",
              "12 2021-06-17\n",
              "13 2021-06-18"
            ]
          },
          "metadata": {
            "tags": []
          },
          "execution_count": 25
        }
      ]
    },
    {
      "cell_type": "code",
      "metadata": {
        "id": "e3obeT2Wv-C3"
      },
      "source": [
        "from statsmodels import tsa\n",
        "from statsmodels.tsa.arima_process import arma_generate_sample\n",
        "import statsmodels.api as sm\n",
        "import warnings\n",
        "\n",
        "def lagfor(col,k,future):\n",
        "  df[col].shift(k)\n",
        "  regress.iloc[:,col] = regress.iloc[:,col].shift(k)\n",
        "  yhat = regress.iloc[-14:,]\n",
        "  future[col.name] = yhat\n",
        "  return future\n",
        "\n",
        "def fc_reg(reg,future):\n",
        "  res = sm.tsa.stattools.arma_order_select_ic(reg, ic='aic',max_ar=6,max_ma=6)\n",
        "  warnings.filterwarnings('ignore')\n",
        "  aic = res.aic_min_order\n",
        "  model = tsa.arima_model.ARMA(reg, order = aic)\n",
        "  model_fit = model.fit()\n",
        "  output = model_fit.forecast(14)\n",
        "  yhat = output[0]\n",
        "  future[reg.name] = yhat\n",
        "  return future\n",
        "\n"
      ],
      "execution_count": null,
      "outputs": []
    },
    {
      "cell_type": "code",
      "metadata": {
        "colab": {
          "base_uri": "https://localhost:8080/"
        },
        "id": "05kPSwWnkzFO",
        "outputId": "b4de4ebb-b963-4d9b-c125-00190339c7da"
      },
      "source": [
        "# define Prophet model with hyperparameters\n",
        "m = Prophet(growth='linear',n_changepoints=7, changepoint_prior_scale=0.05)\n",
        "# add custom seasonality\n",
        "m.add_seasonality(name='monthly', period=30.5, fourier_order=5)\n",
        "m.add_seasonality(name='weekly', period=7, fourier_order=15)\n",
        "# add extra regressor\n",
        "\n",
        "for reg in extra_regressor:\n",
        "  m.add_regressor(name=reg, mode='additive') #multiplicative   additive\n",
        "\n",
        "# train model\n",
        "m.fit(train)"
      ],
      "execution_count": null,
      "outputs": [
        {
          "output_type": "stream",
          "text": [
            "INFO:fbprophet:Found custom seasonality named 'weekly', disabling built-in 'weekly' seasonality.\n",
            "INFO:fbprophet:Disabling daily seasonality. Run prophet with daily_seasonality=True to override this.\n"
          ],
          "name": "stderr"
        },
        {
          "output_type": "execute_result",
          "data": {
            "text/plain": [
              "<fbprophet.forecaster.Prophet at 0x7f1dcde2ae90>"
            ]
          },
          "metadata": {
            "tags": []
          },
          "execution_count": 73
        }
      ]
    },
    {
      "cell_type": "code",
      "metadata": {
        "colab": {
          "base_uri": "https://localhost:8080/"
        },
        "id": "qSiqz8Obl7ot",
        "outputId": "fb367817-751f-4dca-f831-24aaa9938e20"
      },
      "source": [
        "#future = future.merge(train[extra_regressor], left_on='ds', right_index=True, how='left')\n",
        "future.shape"
      ],
      "execution_count": null,
      "outputs": [
        {
          "output_type": "execute_result",
          "data": {
            "text/plain": [
              "(14, 16)"
            ]
          },
          "metadata": {
            "tags": []
          },
          "execution_count": 74
        }
      ]
    },
    {
      "cell_type": "code",
      "metadata": {
        "colab": {
          "base_uri": "https://localhost:8080/",
          "height": 514
        },
        "id": "As9vJtsxkzHy",
        "outputId": "babd354f-2947-410c-dca6-cf80937a69d1"
      },
      "source": [
        "# make future dataframe and predict\n",
        "forecast = m.predict(future)\n",
        "forecast_results = forecast[['ds', 'yhat', 'yhat_lower', 'yhat_upper']]\n",
        "forecast_results.set_index('ds', inplace=True)\n",
        "\n",
        "forecast_results"
      ],
      "execution_count": null,
      "outputs": [
        {
          "output_type": "execute_result",
          "data": {
            "text/html": [
              "<div>\n",
              "<style scoped>\n",
              "    .dataframe tbody tr th:only-of-type {\n",
              "        vertical-align: middle;\n",
              "    }\n",
              "\n",
              "    .dataframe tbody tr th {\n",
              "        vertical-align: top;\n",
              "    }\n",
              "\n",
              "    .dataframe thead th {\n",
              "        text-align: right;\n",
              "    }\n",
              "</style>\n",
              "<table border=\"1\" class=\"dataframe\">\n",
              "  <thead>\n",
              "    <tr style=\"text-align: right;\">\n",
              "      <th></th>\n",
              "      <th>yhat</th>\n",
              "      <th>yhat_lower</th>\n",
              "      <th>yhat_upper</th>\n",
              "    </tr>\n",
              "    <tr>\n",
              "      <th>ds</th>\n",
              "      <th></th>\n",
              "      <th></th>\n",
              "      <th></th>\n",
              "    </tr>\n",
              "  </thead>\n",
              "  <tbody>\n",
              "    <tr>\n",
              "      <th>2021-06-01</th>\n",
              "      <td>1.218830</td>\n",
              "      <td>1.218181</td>\n",
              "      <td>1.219478</td>\n",
              "    </tr>\n",
              "    <tr>\n",
              "      <th>2021-06-02</th>\n",
              "      <td>1.218738</td>\n",
              "      <td>1.218105</td>\n",
              "      <td>1.219380</td>\n",
              "    </tr>\n",
              "    <tr>\n",
              "      <th>2021-06-03</th>\n",
              "      <td>1.218726</td>\n",
              "      <td>1.218078</td>\n",
              "      <td>1.219353</td>\n",
              "    </tr>\n",
              "    <tr>\n",
              "      <th>2021-06-04</th>\n",
              "      <td>1.218579</td>\n",
              "      <td>1.217940</td>\n",
              "      <td>1.219183</td>\n",
              "    </tr>\n",
              "    <tr>\n",
              "      <th>2021-06-07</th>\n",
              "      <td>1.218421</td>\n",
              "      <td>1.217786</td>\n",
              "      <td>1.219036</td>\n",
              "    </tr>\n",
              "    <tr>\n",
              "      <th>2021-06-08</th>\n",
              "      <td>1.218266</td>\n",
              "      <td>1.217617</td>\n",
              "      <td>1.218929</td>\n",
              "    </tr>\n",
              "    <tr>\n",
              "      <th>2021-06-09</th>\n",
              "      <td>1.218173</td>\n",
              "      <td>1.217526</td>\n",
              "      <td>1.218800</td>\n",
              "    </tr>\n",
              "    <tr>\n",
              "      <th>2021-06-10</th>\n",
              "      <td>1.218104</td>\n",
              "      <td>1.217478</td>\n",
              "      <td>1.218759</td>\n",
              "    </tr>\n",
              "    <tr>\n",
              "      <th>2021-06-11</th>\n",
              "      <td>1.217905</td>\n",
              "      <td>1.217251</td>\n",
              "      <td>1.218503</td>\n",
              "    </tr>\n",
              "    <tr>\n",
              "      <th>2021-06-14</th>\n",
              "      <td>1.217774</td>\n",
              "      <td>1.217179</td>\n",
              "      <td>1.218414</td>\n",
              "    </tr>\n",
              "    <tr>\n",
              "      <th>2021-06-15</th>\n",
              "      <td>1.217671</td>\n",
              "      <td>1.216970</td>\n",
              "      <td>1.218336</td>\n",
              "    </tr>\n",
              "    <tr>\n",
              "      <th>2021-06-16</th>\n",
              "      <td>1.217621</td>\n",
              "      <td>1.216981</td>\n",
              "      <td>1.218228</td>\n",
              "    </tr>\n",
              "    <tr>\n",
              "      <th>2021-06-17</th>\n",
              "      <td>1.217588</td>\n",
              "      <td>1.216979</td>\n",
              "      <td>1.218227</td>\n",
              "    </tr>\n",
              "    <tr>\n",
              "      <th>2021-06-18</th>\n",
              "      <td>1.217423</td>\n",
              "      <td>1.216806</td>\n",
              "      <td>1.218075</td>\n",
              "    </tr>\n",
              "  </tbody>\n",
              "</table>\n",
              "</div>"
            ],
            "text/plain": [
              "                yhat  yhat_lower  yhat_upper\n",
              "ds                                          \n",
              "2021-06-01  1.218830    1.218181    1.219478\n",
              "2021-06-02  1.218738    1.218105    1.219380\n",
              "2021-06-03  1.218726    1.218078    1.219353\n",
              "2021-06-04  1.218579    1.217940    1.219183\n",
              "2021-06-07  1.218421    1.217786    1.219036\n",
              "2021-06-08  1.218266    1.217617    1.218929\n",
              "2021-06-09  1.218173    1.217526    1.218800\n",
              "2021-06-10  1.218104    1.217478    1.218759\n",
              "2021-06-11  1.217905    1.217251    1.218503\n",
              "2021-06-14  1.217774    1.217179    1.218414\n",
              "2021-06-15  1.217671    1.216970    1.218336\n",
              "2021-06-16  1.217621    1.216981    1.218228\n",
              "2021-06-17  1.217588    1.216979    1.218227\n",
              "2021-06-18  1.217423    1.216806    1.218075"
            ]
          },
          "metadata": {
            "tags": []
          },
          "execution_count": 76
        }
      ]
    },
    {
      "cell_type": "code",
      "metadata": {
        "colab": {
          "base_uri": "https://localhost:8080/",
          "height": 529
        },
        "id": "hEdIiEz-OuH3",
        "outputId": "33f9e491-ed6c-43f1-9e1f-a5773c649e1d"
      },
      "source": [
        "# Plotting with Prophet built-in method\n",
        "fig = m.plot(forecast)\n",
        "ax = fig.add_subplot(111)\n",
        "ax.axvline(x=forecast['ds'].max() - pd.Timedelta('10 days'), c='red', lw=2, alpha=0.5, ls='--')\n",
        "fig.show()"
      ],
      "execution_count": null,
      "outputs": [
        {
          "output_type": "stream",
          "text": [
            "/usr/local/lib/python3.7/dist-packages/ipykernel_launcher.py:3: MatplotlibDeprecationWarning:\n",
            "\n",
            "Adding an axes using the same arguments as a previous axes currently reuses the earlier instance.  In a future version, a new instance will always be created and returned.  Meanwhile, this warning can be suppressed, and the future behavior ensured, by passing a unique label to each axes instance.\n",
            "\n"
          ],
          "name": "stderr"
        },
        {
          "output_type": "display_data",
          "data": {
            "image/png": "[encoded data removed]",
            "text/plain": [
              "<Figure size 720x432 with 1 Axes>"
            ]
          },
          "metadata": {
            "tags": []
          }
        }
      ]
    },
    {
      "cell_type": "code",
      "metadata": {
        "colab": {
          "base_uri": "https://localhost:8080/",
          "height": 421
        },
        "id": "zVgqDypdkzKg",
        "outputId": "fb6581d7-ff34-4f95-81d3-7dc125713dde"
      },
      "source": [
        "final_df_results = pd.merge(test[['y']], forecast_results[['yhat']], left_index=True, right_index=True, how='inner')\n",
        "final_df_results"
      ],
      "execution_count": null,
      "outputs": [
        {
          "output_type": "execute_result",
          "data": {
            "text/html": [
              "<div>\n",
              "<style scoped>\n",
              "    .dataframe tbody tr th:only-of-type {\n",
              "        vertical-align: middle;\n",
              "    }\n",
              "\n",
              "    .dataframe tbody tr th {\n",
              "        vertical-align: top;\n",
              "    }\n",
              "\n",
              "    .dataframe thead th {\n",
              "        text-align: right;\n",
              "    }\n",
              "</style>\n",
              "<table border=\"1\" class=\"dataframe\">\n",
              "  <thead>\n",
              "    <tr style=\"text-align: right;\">\n",
              "      <th></th>\n",
              "      <th>y</th>\n",
              "      <th>yhat</th>\n",
              "    </tr>\n",
              "  </thead>\n",
              "  <tbody>\n",
              "    <tr>\n",
              "      <th>2021-06-03</th>\n",
              "      <td>1.220986</td>\n",
              "      <td>1.218726</td>\n",
              "    </tr>\n",
              "    <tr>\n",
              "      <th>2021-06-04</th>\n",
              "      <td>1.213301</td>\n",
              "      <td>1.218579</td>\n",
              "    </tr>\n",
              "    <tr>\n",
              "      <th>2021-06-07</th>\n",
              "      <td>1.216841</td>\n",
              "      <td>1.218421</td>\n",
              "    </tr>\n",
              "    <tr>\n",
              "      <th>2021-06-08</th>\n",
              "      <td>1.219363</td>\n",
              "      <td>1.218266</td>\n",
              "    </tr>\n",
              "    <tr>\n",
              "      <th>2021-06-09</th>\n",
              "      <td>1.217285</td>\n",
              "      <td>1.218173</td>\n",
              "    </tr>\n",
              "    <tr>\n",
              "      <th>2021-06-10</th>\n",
              "      <td>1.218200</td>\n",
              "      <td>1.218104</td>\n",
              "    </tr>\n",
              "    <tr>\n",
              "      <th>2021-06-11</th>\n",
              "      <td>1.217256</td>\n",
              "      <td>1.217905</td>\n",
              "    </tr>\n",
              "    <tr>\n",
              "      <th>2021-06-14</th>\n",
              "      <td>1.211020</td>\n",
              "      <td>1.217774</td>\n",
              "    </tr>\n",
              "    <tr>\n",
              "      <th>2021-06-15</th>\n",
              "      <td>1.212224</td>\n",
              "      <td>1.217671</td>\n",
              "    </tr>\n",
              "    <tr>\n",
              "      <th>2021-06-16</th>\n",
              "      <td>1.212709</td>\n",
              "      <td>1.217621</td>\n",
              "    </tr>\n",
              "    <tr>\n",
              "      <th>2021-06-17</th>\n",
              "      <td>1.199559</td>\n",
              "      <td>1.217588</td>\n",
              "    </tr>\n",
              "    <tr>\n",
              "      <th>2021-06-18</th>\n",
              "      <td>1.191341</td>\n",
              "      <td>1.217423</td>\n",
              "    </tr>\n",
              "  </tbody>\n",
              "</table>\n",
              "</div>"
            ],
            "text/plain": [
              "                   y      yhat\n",
              "2021-06-03  1.220986  1.218726\n",
              "2021-06-04  1.213301  1.218579\n",
              "2021-06-07  1.216841  1.218421\n",
              "2021-06-08  1.219363  1.218266\n",
              "2021-06-09  1.217285  1.218173\n",
              "2021-06-10  1.218200  1.218104\n",
              "2021-06-11  1.217256  1.217905\n",
              "2021-06-14  1.211020  1.217774\n",
              "2021-06-15  1.212224  1.217671\n",
              "2021-06-16  1.212709  1.217621\n",
              "2021-06-17  1.199559  1.217588\n",
              "2021-06-18  1.191341  1.217423"
            ]
          },
          "metadata": {
            "tags": []
          },
          "execution_count": 70
        }
      ]
    },
    {
      "cell_type": "code",
      "metadata": {
        "colab": {
          "base_uri": "https://localhost:8080/",
          "height": 683
        },
        "id": "A54cwHhImPWP",
        "outputId": "eebe4ba3-f573-4fe3-e8d0-f6b41b762b85"
      },
      "source": [
        "# Analyze the forecast error\n",
        "calc_errors(final_df_results['y'].values, final_df_results['yhat'].values)"
      ],
      "execution_count": null,
      "outputs": [
        {
          "output_type": "stream",
          "text": [
            "Mean MAE: 0.01\n",
            "MAE%: 0.65%\n",
            "RMSE: 0.01\n",
            "Bias: 0.01\n",
            "\n",
            "5th percetile MAE: 0.00\n",
            "25th percetile MAE: 0.00\n",
            "50th percetile MAE: 0.01\n",
            "75th percetile MAE: 0.01\n",
            "95th percetile MAE: 0.02\n"
          ],
          "name": "stdout"
        },
        {
          "output_type": "display_data",
          "data": {
            "image/png": "[encoded data removed]",
            "text/plain": [
              "<Figure size 576x576 with 1 Axes>"
            ]
          },
          "metadata": {
            "tags": [],
            "needs_background": "light"
          }
        }
      ]
    },
    {
      "cell_type": "code",
      "metadata": {
        "colab": {
          "base_uri": "https://localhost:8080/",
          "height": 542
        },
        "id": "JX-di41KmPZA",
        "outputId": "cbb5c4c7-c34d-41d4-be20-060b430180cc"
      },
      "source": [
        "import plotly.graph_objects as go\n",
        "fig = go.Figure()\n",
        "\n",
        "fig.add_trace(go.Scatter(x=final_df_results.index, y=final_df_results['y'],\n",
        "                    mode='lines+markers',\n",
        "                    name='Real Values'))\n",
        "\n",
        "fig.add_trace(go.Scatter(x=final_df_results.index, y=final_df_results['yhat'],\n",
        "                    mode='lines+markers',\n",
        "                    name='Predicted Values'))\n",
        "\n",
        "fig.update_layout(template='plotly_white')\n",
        "fig.show()"
      ],
      "execution_count": null,
      "outputs": [
        {
          "output_type": "display_data",
          "data": {
            "text/html": [
              "<html>\n",
              "<head><meta charset=\"utf-8\" /></head>\n",
              "<body>\n",
              "    <div>\n",
              "            <script src=\"https://cdnjs.cloudflare.com/ajax/libs/mathjax/2.7.5/MathJax.js?config=TeX-AMS-MML_SVG\"></script><script type=\"text/javascript\">if (window.MathJax) {MathJax.Hub.Config({SVG: {font: \"STIX-Web\"}});}</script>\n",
              "                <script type=\"text/javascript\">window.PlotlyConfig = {MathJaxConfig: 'local'};</script>\n",
              "        <script src=\"https://cdn.plot.ly/plotly-latest.min.js\"></script>    \n",
              "            <div id=\"b2fee344-b06b-4841-91c9-54bb17656104\" class=\"plotly-graph-div\" style=\"height:525px; width:100%;\"></div>\n",
              "            <script type=\"text/javascript\">\n",
              "                \n",
              "                    window.PLOTLYENV=window.PLOTLYENV || {};\n",
              "                    \n",
              "                if (document.getElementById(\"b2fee344-b06b-4841-91c9-54bb17656104\")) {\n",
              "                    Plotly.newPlot(\n",
              "                        'b2fee344-b06b-4841-91c9-54bb17656104',\n",
              "                        [{\"mode\": \"lines+markers\", \"name\": \"Real Values\", \"type\": \"scatter\", \"x\": [\"2021-06-03T00:00:00\", \"2021-06-04T00:00:00\", \"2021-06-07T00:00:00\", \"2021-06-08T00:00:00\", \"2021-06-09T00:00:00\", \"2021-06-10T00:00:00\", \"2021-06-11T00:00:00\", \"2021-06-14T00:00:00\", \"2021-06-15T00:00:00\", \"2021-06-16T00:00:00\", \"2021-06-17T00:00:00\", \"2021-06-18T00:00:00\"], \"y\": [1.220986247062683, 1.2133007049560547, 1.2168411016464233, 1.2193634510040283, 1.217285394668579, 1.218200445175171, 1.2172558307647705, 1.2110203504562378, 1.212224006652832, 1.2127091884613037, 1.1995586156845093, 1.1913414001464844]}, {\"mode\": \"lines+markers\", \"name\": \"Predicted Values\", \"type\": \"scatter\", \"x\": [\"2021-06-03T00:00:00\", \"2021-06-04T00:00:00\", \"2021-06-07T00:00:00\", \"2021-06-08T00:00:00\", \"2021-06-09T00:00:00\", \"2021-06-10T00:00:00\", \"2021-06-11T00:00:00\", \"2021-06-14T00:00:00\", \"2021-06-15T00:00:00\", \"2021-06-16T00:00:00\", \"2021-06-17T00:00:00\", \"2021-06-18T00:00:00\"], \"y\": [1.218725995964293, 1.2185787204124423, 1.2184211538563496, 1.2182663493487855, 1.2181734048660582, 1.2181036364328013, 1.21790543332206, 1.2177743148642042, 1.2176707867306258, 1.217621305551001, 1.2175879580692868, 1.2174232313870361]}],\n",
              "                        {\"template\": {\"data\": {\"bar\": [{\"error_x\": {\"color\": \"#2a3f5f\"}, \"error_y\": {\"color\": \"#2a3f5f\"}, \"marker\": {\"line\": {\"color\": \"white\", \"width\": 0.5}}, \"type\": \"bar\"}], \"barpolar\": [{\"marker\": {\"line\": {\"color\": \"white\", \"width\": 0.5}}, \"type\": \"barpolar\"}], \"carpet\": [{\"aaxis\": {\"endlinecolor\": \"#2a3f5f\", \"gridcolor\": \"#C8D4E3\", \"linecolor\": \"#C8D4E3\", \"minorgridcolor\": \"#C8D4E3\", \"startlinecolor\": \"#2a3f5f\"}, \"baxis\": {\"endlinecolor\": \"#2a3f5f\", \"gridcolor\": \"#C8D4E3\", \"linecolor\": \"#C8D4E3\", \"minorgridcolor\": \"#C8D4E3\", \"startlinecolor\": \"#2a3f5f\"}, \"type\": \"carpet\"}], \"choropleth\": [{\"colorbar\": {\"outlinewidth\": 0, \"ticks\": \"\"}, \"type\": \"choropleth\"}], \"contour\": [{\"colorbar\": {\"outlinewidth\": 0, \"ticks\": \"\"}, \"colorscale\": [[0.0, \"#0d0887\"], [0.1111111111111111, \"#46039f\"], [0.2222222222222222, \"#7201a8\"], [0.3333333333333333, \"#9c179e\"], [0.4444444444444444, \"#bd3786\"], [0.5555555555555556, \"#d8576b\"], [0.6666666666666666, \"#ed7953\"], [0.7777777777777778, \"#fb9f3a\"], [0.8888888888888888, \"#fdca26\"], [1.0, \"#f0f921\"]], \"type\": \"contour\"}], \"contourcarpet\": [{\"colorbar\": {\"outlinewidth\": 0, \"ticks\": \"\"}, \"type\": \"contourcarpet\"}], \"heatmap\": [{\"colorbar\": {\"outlinewidth\": 0, \"ticks\": \"\"}, \"colorscale\": [[0.0, \"#0d0887\"], [0.1111111111111111, \"#46039f\"], [0.2222222222222222, \"#7201a8\"], [0.3333333333333333, \"#9c179e\"], [0.4444444444444444, \"#bd3786\"], [0.5555555555555556, \"#d8576b\"], [0.6666666666666666, \"#ed7953\"], [0.7777777777777778, \"#fb9f3a\"], [0.8888888888888888, \"#fdca26\"], [1.0, \"#f0f921\"]], \"type\": \"heatmap\"}], \"heatmapgl\": [{\"colorbar\": {\"outlinewidth\": 0, \"ticks\": \"\"}, \"colorscale\": [[0.0, \"#0d0887\"], [0.1111111111111111, \"#46039f\"], [0.2222222222222222, \"#7201a8\"], [0.3333333333333333, \"#9c179e\"], [0.4444444444444444, \"#bd3786\"], [0.5555555555555556, \"#d8576b\"], [0.6666666666666666, \"#ed7953\"], [0.7777777777777778, \"#fb9f3a\"], [0.8888888888888888, \"#fdca26\"], [1.0, \"#f0f921\"]], \"type\": \"heatmapgl\"}], \"histogram\": [{\"marker\": {\"colorbar\": {\"outlinewidth\": 0, \"ticks\": \"\"}}, \"type\": \"histogram\"}], \"histogram2d\": [{\"colorbar\": {\"outlinewidth\": 0, \"ticks\": \"\"}, \"colorscale\": [[0.0, \"#0d0887\"], [0.1111111111111111, \"#46039f\"], [0.2222222222222222, \"#7201a8\"], [0.3333333333333333, \"#9c179e\"], [0.4444444444444444, \"#bd3786\"], [0.5555555555555556, \"#d8576b\"], [0.6666666666666666, \"#ed7953\"], [0.7777777777777778, \"#fb9f3a\"], [0.8888888888888888, \"#fdca26\"], [1.0, \"#f0f921\"]], \"type\": \"histogram2d\"}], \"histogram2dcontour\": [{\"colorbar\": {\"outlinewidth\": 0, \"ticks\": \"\"}, \"colorscale\": [[0.0, \"#0d0887\"], [0.1111111111111111, \"#46039f\"], [0.2222222222222222, \"#7201a8\"], [0.3333333333333333, \"#9c179e\"], [0.4444444444444444, \"#bd3786\"], [0.5555555555555556, \"#d8576b\"], [0.6666666666666666, \"#ed7953\"], [0.7777777777777778, \"#fb9f3a\"], [0.8888888888888888, \"#fdca26\"], [1.0, \"#f0f921\"]], \"type\": \"histogram2dcontour\"}], \"mesh3d\": [{\"colorbar\": {\"outlinewidth\": 0, \"ticks\": \"\"}, \"type\": \"mesh3d\"}], \"parcoords\": [{\"line\": {\"colorbar\": {\"outlinewidth\": 0, \"ticks\": \"\"}}, \"type\": \"parcoords\"}], \"pie\": [{\"automargin\": true, \"type\": \"pie\"}], \"scatter\": [{\"marker\": {\"colorbar\": {\"outlinewidth\": 0, \"ticks\": \"\"}}, \"type\": \"scatter\"}], \"scatter3d\": [{\"line\": {\"colorbar\": {\"outlinewidth\": 0, \"ticks\": \"\"}}, \"marker\": {\"colorbar\": {\"outlinewidth\": 0, \"ticks\": \"\"}}, \"type\": \"scatter3d\"}], \"scattercarpet\": [{\"marker\": {\"colorbar\": {\"outlinewidth\": 0, \"ticks\": \"\"}}, \"type\": \"scattercarpet\"}], \"scattergeo\": [{\"marker\": {\"colorbar\": {\"outlinewidth\": 0, \"ticks\": \"\"}}, \"type\": \"scattergeo\"}], \"scattergl\": [{\"marker\": {\"colorbar\": {\"outlinewidth\": 0, \"ticks\": \"\"}}, \"type\": \"scattergl\"}], \"scattermapbox\": [{\"marker\": {\"colorbar\": {\"outlinewidth\": 0, \"ticks\": \"\"}}, \"type\": \"scattermapbox\"}], \"scatterpolar\": [{\"marker\": {\"colorbar\": {\"outlinewidth\": 0, \"ticks\": \"\"}}, \"type\": \"scatterpolar\"}], \"scatterpolargl\": [{\"marker\": {\"colorbar\": {\"outlinewidth\": 0, \"ticks\": \"\"}}, \"type\": \"scatterpolargl\"}], \"scatterternary\": [{\"marker\": {\"colorbar\": {\"outlinewidth\": 0, \"ticks\": \"\"}}, \"type\": \"scatterternary\"}], \"surface\": [{\"colorbar\": {\"outlinewidth\": 0, \"ticks\": \"\"}, \"colorscale\": [[0.0, \"#0d0887\"], [0.1111111111111111, \"#46039f\"], [0.2222222222222222, \"#7201a8\"], [0.3333333333333333, \"#9c179e\"], [0.4444444444444444, \"#bd3786\"], [0.5555555555555556, \"#d8576b\"], [0.6666666666666666, \"#ed7953\"], [0.7777777777777778, \"#fb9f3a\"], [0.8888888888888888, \"#fdca26\"], [1.0, \"#f0f921\"]], \"type\": \"surface\"}], \"table\": [{\"cells\": {\"fill\": {\"color\": \"#EBF0F8\"}, \"line\": {\"color\": \"white\"}}, \"header\": {\"fill\": {\"color\": \"#C8D4E3\"}, \"line\": {\"color\": \"white\"}}, \"type\": \"table\"}]}, \"layout\": {\"annotationdefaults\": {\"arrowcolor\": \"#2a3f5f\", \"arrowhead\": 0, \"arrowwidth\": 1}, \"coloraxis\": {\"colorbar\": {\"outlinewidth\": 0, \"ticks\": \"\"}}, \"colorscale\": {\"diverging\": [[0, \"#8e0152\"], [0.1, \"#c51b7d\"], [0.2, \"#de77ae\"], [0.3, \"#f1b6da\"], [0.4, \"#fde0ef\"], [0.5, \"#f7f7f7\"], [0.6, \"#e6f5d0\"], [0.7, \"#b8e186\"], [0.8, \"#7fbc41\"], [0.9, \"#4d9221\"], [1, \"#276419\"]], \"sequential\": [[0.0, \"#0d0887\"], [0.1111111111111111, \"#46039f\"], [0.2222222222222222, \"#7201a8\"], [0.3333333333333333, \"#9c179e\"], [0.4444444444444444, \"#bd3786\"], [0.5555555555555556, \"#d8576b\"], [0.6666666666666666, \"#ed7953\"], [0.7777777777777778, \"#fb9f3a\"], [0.8888888888888888, \"#fdca26\"], [1.0, \"#f0f921\"]], \"sequentialminus\": [[0.0, \"#0d0887\"], [0.1111111111111111, \"#46039f\"], [0.2222222222222222, \"#7201a8\"], [0.3333333333333333, \"#9c179e\"], [0.4444444444444444, \"#bd3786\"], [0.5555555555555556, \"#d8576b\"], [0.6666666666666666, \"#ed7953\"], [0.7777777777777778, \"#fb9f3a\"], [0.8888888888888888, \"#fdca26\"], [1.0, \"#f0f921\"]]}, \"colorway\": [\"#636efa\", \"#EF553B\", \"#00cc96\", \"#ab63fa\", \"#FFA15A\", \"#19d3f3\", \"#FF6692\", \"#B6E880\", \"#FF97FF\", \"#FECB52\"], \"font\": {\"color\": \"#2a3f5f\"}, \"geo\": {\"bgcolor\": \"white\", \"lakecolor\": \"white\", \"landcolor\": \"white\", \"showlakes\": true, \"showland\": true, \"subunitcolor\": \"#C8D4E3\"}, \"hoverlabel\": {\"align\": \"left\"}, \"hovermode\": \"closest\", \"mapbox\": {\"style\": \"light\"}, \"paper_bgcolor\": \"white\", \"plot_bgcolor\": \"white\", \"polar\": {\"angularaxis\": {\"gridcolor\": \"#EBF0F8\", \"linecolor\": \"#EBF0F8\", \"ticks\": \"\"}, \"bgcolor\": \"white\", \"radialaxis\": {\"gridcolor\": \"#EBF0F8\", \"linecolor\": \"#EBF0F8\", \"ticks\": \"\"}}, \"scene\": {\"xaxis\": {\"backgroundcolor\": \"white\", \"gridcolor\": \"#DFE8F3\", \"gridwidth\": 2, \"linecolor\": \"#EBF0F8\", \"showbackground\": true, \"ticks\": \"\", \"zerolinecolor\": \"#EBF0F8\"}, \"yaxis\": {\"backgroundcolor\": \"white\", \"gridcolor\": \"#DFE8F3\", \"gridwidth\": 2, \"linecolor\": \"#EBF0F8\", \"showbackground\": true, \"ticks\": \"\", \"zerolinecolor\": \"#EBF0F8\"}, \"zaxis\": {\"backgroundcolor\": \"white\", \"gridcolor\": \"#DFE8F3\", \"gridwidth\": 2, \"linecolor\": \"#EBF0F8\", \"showbackground\": true, \"ticks\": \"\", \"zerolinecolor\": \"#EBF0F8\"}}, \"shapedefaults\": {\"line\": {\"color\": \"#2a3f5f\"}}, \"ternary\": {\"aaxis\": {\"gridcolor\": \"#DFE8F3\", \"linecolor\": \"#A2B1C6\", \"ticks\": \"\"}, \"baxis\": {\"gridcolor\": \"#DFE8F3\", \"linecolor\": \"#A2B1C6\", \"ticks\": \"\"}, \"bgcolor\": \"white\", \"caxis\": {\"gridcolor\": \"#DFE8F3\", \"linecolor\": \"#A2B1C6\", \"ticks\": \"\"}}, \"title\": {\"x\": 0.05}, \"xaxis\": {\"automargin\": true, \"gridcolor\": \"#EBF0F8\", \"linecolor\": \"#EBF0F8\", \"ticks\": \"\", \"title\": {\"standoff\": 15}, \"zerolinecolor\": \"#EBF0F8\", \"zerolinewidth\": 2}, \"yaxis\": {\"automargin\": true, \"gridcolor\": \"#EBF0F8\", \"linecolor\": \"#EBF0F8\", \"ticks\": \"\", \"title\": {\"standoff\": 15}, \"zerolinecolor\": \"#EBF0F8\", \"zerolinewidth\": 2}}}},\n",
              "                        {\"responsive\": true}\n",
              "                    ).then(function(){\n",
              "                            \n",
              "var gd = document.getElementById('b2fee344-b06b-4841-91c9-54bb17656104');\n",
              "var x = new MutationObserver(function (mutations, observer) {{\n",
              "        var display = window.getComputedStyle(gd).display;\n",
              "        if (!display || display === 'none') {{\n",
              "            console.log([gd, 'removed!']);\n",
              "            Plotly.purge(gd);\n",
              "            observer.disconnect();\n",
              "        }}\n",
              "}});\n",
              "\n",
              "// Listen for the removal of the full notebook cells\n",
              "var notebookContainer = gd.closest('#notebook-container');\n",
              "if (notebookContainer) {{\n",
              "    x.observe(notebookContainer, {childList: true});\n",
              "}}\n",
              "\n",
              "// Listen for the clearing of the current output cell\n",
              "var outputEl = gd.closest('.output');\n",
              "if (outputEl) {{\n",
              "    x.observe(outputEl, {childList: true});\n",
              "}}\n",
              "\n",
              "                        })\n",
              "                };\n",
              "                \n",
              "            </script>\n",
              "        </div>\n",
              "</body>\n",
              "</html>"
            ]
          },
          "metadata": {
            "tags": []
          }
        }
      ]
    },
    {
      "cell_type": "code",
      "metadata": {
        "colab": {
          "base_uri": "https://localhost:8080/",
          "height": 640
        },
        "id": "E6fMfwMQRIsQ",
        "outputId": "0bf4dc98-0ac3-4da7-98cd-13eadcfe9b16"
      },
      "source": [
        "extra_regressor = ['eurusd_close','covid_US', 'covid_EU','gbpusd_close','eurjpy_close','consumer_price_index', 'GDP_US', 'inflation',\n",
        "       'US_UNRATE', 'FEDFUNDS', 'EU_INTEREST', 'EU_REPO']\n",
        "train_set = forex_dfn2[:'2021-03-01'].iloc[:-1]\n",
        "train_set= train_set.drop(['eurusd_close','sentiment','sentiment1',\t'neutral'\t,'positive',\t'negative' ,'date.1'],axis = 1)\n",
        "train_set"
      ],
      "execution_count": null,
      "outputs": [
        {
          "output_type": "execute_result",
          "data": {
            "text/html": [
              "<div>\n",
              "<style scoped>\n",
              "    .dataframe tbody tr th:only-of-type {\n",
              "        vertical-align: middle;\n",
              "    }\n",
              "\n",
              "    .dataframe tbody tr th {\n",
              "        vertical-align: top;\n",
              "    }\n",
              "\n",
              "    .dataframe thead th {\n",
              "        text-align: right;\n",
              "    }\n",
              "</style>\n",
              "<table border=\"1\" class=\"dataframe\">\n",
              "  <thead>\n",
              "    <tr style=\"text-align: right;\">\n",
              "      <th></th>\n",
              "      <th>gbpusd_close</th>\n",
              "      <th>usdchf_close</th>\n",
              "      <th>usdjpy_close</th>\n",
              "      <th>eurjpy_close</th>\n",
              "      <th>usdcad_close</th>\n",
              "      <th>audusd_close</th>\n",
              "      <th>ds</th>\n",
              "      <th>y</th>\n",
              "      <th>consumer_price_index</th>\n",
              "      <th>GDP_US</th>\n",
              "      <th>inflation</th>\n",
              "      <th>covid_US</th>\n",
              "      <th>covid_EU</th>\n",
              "      <th>US_UNRATE</th>\n",
              "      <th>FEDFUNDS</th>\n",
              "      <th>EU_INTEREST</th>\n",
              "      <th>EU_REPO</th>\n",
              "    </tr>\n",
              "    <tr>\n",
              "      <th>Date</th>\n",
              "      <th></th>\n",
              "      <th></th>\n",
              "      <th></th>\n",
              "      <th></th>\n",
              "      <th></th>\n",
              "      <th></th>\n",
              "      <th></th>\n",
              "      <th></th>\n",
              "      <th></th>\n",
              "      <th></th>\n",
              "      <th></th>\n",
              "      <th></th>\n",
              "      <th></th>\n",
              "      <th></th>\n",
              "      <th></th>\n",
              "      <th></th>\n",
              "      <th></th>\n",
              "    </tr>\n",
              "  </thead>\n",
              "  <tbody>\n",
              "    <tr>\n",
              "      <th>2010-01-01</th>\n",
              "      <td>1.613294</td>\n",
              "      <td>1.03390</td>\n",
              "      <td>92.919998</td>\n",
              "      <td>133.710007</td>\n",
              "      <td>1.05120</td>\n",
              "      <td>0.898473</td>\n",
              "      <td>2010-01-01</td>\n",
              "      <td>1.438994</td>\n",
              "      <td>217.488</td>\n",
              "      <td>14721.350</td>\n",
              "      <td>NaN</td>\n",
              "      <td>0.0</td>\n",
              "      <td>0.0</td>\n",
              "      <td>9.8</td>\n",
              "      <td>0.11</td>\n",
              "      <td>0.43</td>\n",
              "      <td>0.52</td>\n",
              "    </tr>\n",
              "    <tr>\n",
              "      <th>2010-01-04</th>\n",
              "      <td>1.611370</td>\n",
              "      <td>1.02910</td>\n",
              "      <td>92.495003</td>\n",
              "      <td>133.389999</td>\n",
              "      <td>1.04100</td>\n",
              "      <td>0.912492</td>\n",
              "      <td>2010-01-04</td>\n",
              "      <td>1.442398</td>\n",
              "      <td>217.488</td>\n",
              "      <td>14721.350</td>\n",
              "      <td>NaN</td>\n",
              "      <td>0.0</td>\n",
              "      <td>0.0</td>\n",
              "      <td>9.8</td>\n",
              "      <td>0.11</td>\n",
              "      <td>0.43</td>\n",
              "      <td>0.52</td>\n",
              "    </tr>\n",
              "    <tr>\n",
              "      <th>2010-01-05</th>\n",
              "      <td>1.599079</td>\n",
              "      <td>1.03370</td>\n",
              "      <td>91.584999</td>\n",
              "      <td>131.529999</td>\n",
              "      <td>1.03950</td>\n",
              "      <td>0.911826</td>\n",
              "      <td>2010-01-05</td>\n",
              "      <td>1.436596</td>\n",
              "      <td>217.488</td>\n",
              "      <td>14721.350</td>\n",
              "      <td>NaN</td>\n",
              "      <td>0.0</td>\n",
              "      <td>0.0</td>\n",
              "      <td>9.8</td>\n",
              "      <td>0.11</td>\n",
              "      <td>0.43</td>\n",
              "      <td>0.52</td>\n",
              "    </tr>\n",
              "    <tr>\n",
              "      <th>2010-01-06</th>\n",
              "      <td>1.602384</td>\n",
              "      <td>1.02760</td>\n",
              "      <td>92.356003</td>\n",
              "      <td>133.013000</td>\n",
              "      <td>1.03190</td>\n",
              "      <td>0.920471</td>\n",
              "      <td>2010-01-06</td>\n",
              "      <td>1.440403</td>\n",
              "      <td>217.488</td>\n",
              "      <td>14721.350</td>\n",
              "      <td>NaN</td>\n",
              "      <td>0.0</td>\n",
              "      <td>0.0</td>\n",
              "      <td>9.8</td>\n",
              "      <td>0.11</td>\n",
              "      <td>0.43</td>\n",
              "      <td>0.52</td>\n",
              "    </tr>\n",
              "    <tr>\n",
              "      <th>2010-01-07</th>\n",
              "      <td>1.593397</td>\n",
              "      <td>1.03360</td>\n",
              "      <td>93.389999</td>\n",
              "      <td>133.748001</td>\n",
              "      <td>1.03400</td>\n",
              "      <td>0.917768</td>\n",
              "      <td>2010-01-07</td>\n",
              "      <td>1.431803</td>\n",
              "      <td>217.488</td>\n",
              "      <td>14721.350</td>\n",
              "      <td>NaN</td>\n",
              "      <td>0.0</td>\n",
              "      <td>0.0</td>\n",
              "      <td>9.8</td>\n",
              "      <td>0.11</td>\n",
              "      <td>0.43</td>\n",
              "      <td>0.52</td>\n",
              "    </tr>\n",
              "    <tr>\n",
              "      <th>...</th>\n",
              "      <td>...</td>\n",
              "      <td>...</td>\n",
              "      <td>...</td>\n",
              "      <td>...</td>\n",
              "      <td>...</td>\n",
              "      <td>...</td>\n",
              "      <td>...</td>\n",
              "      <td>...</td>\n",
              "      <td>...</td>\n",
              "      <td>...</td>\n",
              "      <td>...</td>\n",
              "      <td>...</td>\n",
              "      <td>...</td>\n",
              "      <td>...</td>\n",
              "      <td>...</td>\n",
              "      <td>...</td>\n",
              "      <td>...</td>\n",
              "    </tr>\n",
              "    <tr>\n",
              "      <th>2021-02-22</th>\n",
              "      <td>1.403115</td>\n",
              "      <td>0.89669</td>\n",
              "      <td>105.514000</td>\n",
              "      <td>127.941002</td>\n",
              "      <td>1.25987</td>\n",
              "      <td>0.788849</td>\n",
              "      <td>2021-02-22</td>\n",
              "      <td>1.212636</td>\n",
              "      <td>263.161</td>\n",
              "      <td>22048.894</td>\n",
              "      <td>2.16</td>\n",
              "      <td>66106.0</td>\n",
              "      <td>103446.0</td>\n",
              "      <td>6.2</td>\n",
              "      <td>0.08</td>\n",
              "      <td>0.01</td>\n",
              "      <td>0.08</td>\n",
              "    </tr>\n",
              "    <tr>\n",
              "      <th>2021-02-23</th>\n",
              "      <td>1.407123</td>\n",
              "      <td>0.89569</td>\n",
              "      <td>104.984001</td>\n",
              "      <td>127.723000</td>\n",
              "      <td>1.26090</td>\n",
              "      <td>0.791540</td>\n",
              "      <td>2021-02-23</td>\n",
              "      <td>1.216680</td>\n",
              "      <td>263.161</td>\n",
              "      <td>22048.894</td>\n",
              "      <td>2.16</td>\n",
              "      <td>88502.0</td>\n",
              "      <td>134703.0</td>\n",
              "      <td>6.2</td>\n",
              "      <td>0.08</td>\n",
              "      <td>0.01</td>\n",
              "      <td>0.08</td>\n",
              "    </tr>\n",
              "    <tr>\n",
              "      <th>2021-02-24</th>\n",
              "      <td>1.412031</td>\n",
              "      <td>0.90510</td>\n",
              "      <td>105.282997</td>\n",
              "      <td>127.919998</td>\n",
              "      <td>1.25926</td>\n",
              "      <td>0.790883</td>\n",
              "      <td>2021-02-24</td>\n",
              "      <td>1.215214</td>\n",
              "      <td>263.161</td>\n",
              "      <td>22048.894</td>\n",
              "      <td>2.17</td>\n",
              "      <td>91134.0</td>\n",
              "      <td>171962.0</td>\n",
              "      <td>6.2</td>\n",
              "      <td>0.08</td>\n",
              "      <td>0.01</td>\n",
              "      <td>0.08</td>\n",
              "    </tr>\n",
              "    <tr>\n",
              "      <th>2021-02-25</th>\n",
              "      <td>1.414827</td>\n",
              "      <td>0.90660</td>\n",
              "      <td>105.944000</td>\n",
              "      <td>128.942001</td>\n",
              "      <td>1.25100</td>\n",
              "      <td>0.797703</td>\n",
              "      <td>2021-02-25</td>\n",
              "      <td>1.217137</td>\n",
              "      <td>263.161</td>\n",
              "      <td>22048.894</td>\n",
              "      <td>2.14</td>\n",
              "      <td>93285.0</td>\n",
              "      <td>170099.0</td>\n",
              "      <td>6.2</td>\n",
              "      <td>0.08</td>\n",
              "      <td>0.01</td>\n",
              "      <td>0.08</td>\n",
              "    </tr>\n",
              "    <tr>\n",
              "      <th>2021-02-26</th>\n",
              "      <td>1.400815</td>\n",
              "      <td>0.90557</td>\n",
              "      <td>106.378998</td>\n",
              "      <td>129.354996</td>\n",
              "      <td>1.26099</td>\n",
              "      <td>0.787000</td>\n",
              "      <td>2021-02-26</td>\n",
              "      <td>1.216042</td>\n",
              "      <td>263.161</td>\n",
              "      <td>22048.894</td>\n",
              "      <td>2.15</td>\n",
              "      <td>92286.0</td>\n",
              "      <td>165531.0</td>\n",
              "      <td>6.2</td>\n",
              "      <td>0.08</td>\n",
              "      <td>0.01</td>\n",
              "      <td>0.08</td>\n",
              "    </tr>\n",
              "  </tbody>\n",
              "</table>\n",
              "<p>2889 rows × 17 columns</p>\n",
              "</div>"
            ],
            "text/plain": [
              "            gbpusd_close  usdchf_close  ...  EU_INTEREST  EU_REPO\n",
              "Date                                    ...                      \n",
              "2010-01-01      1.613294       1.03390  ...         0.43     0.52\n",
              "2010-01-04      1.611370       1.02910  ...         0.43     0.52\n",
              "2010-01-05      1.599079       1.03370  ...         0.43     0.52\n",
              "2010-01-06      1.602384       1.02760  ...         0.43     0.52\n",
              "2010-01-07      1.593397       1.03360  ...         0.43     0.52\n",
              "...                  ...           ...  ...          ...      ...\n",
              "2021-02-22      1.403115       0.89669  ...         0.01     0.08\n",
              "2021-02-23      1.407123       0.89569  ...         0.01     0.08\n",
              "2021-02-24      1.412031       0.90510  ...         0.01     0.08\n",
              "2021-02-25      1.414827       0.90660  ...         0.01     0.08\n",
              "2021-02-26      1.400815       0.90557  ...         0.01     0.08\n",
              "\n",
              "[2889 rows x 17 columns]"
            ]
          },
          "metadata": {
            "tags": []
          },
          "execution_count": 235
        }
      ]
    },
    {
      "cell_type": "code",
      "metadata": {
        "colab": {
          "base_uri": "https://localhost:8080/",
          "height": 426
        },
        "id": "WOLtBHLCUUpx",
        "outputId": "ee188050-15df-406d-dd68-a12be25ce178"
      },
      "source": [
        "windows = ['2021-03-01','2021-03-15','2021-04-01']\n",
        "#'2021-04-15','2021-05-01','2021-05-15','2021-06-01'\n",
        "MEAN_PRC_MAE = []\n",
        "MEAN_MAE = []\n",
        "for window in windows:\n",
        "  train_set = forex_dfn2[:window].iloc[:-1]\n",
        "  train_set['ds'] = train_set.index\n",
        "  train_set['y'] = train_set['eurusd_close'].values\n",
        "  train_set.fillna(method='pad', inplace=True)\n",
        "  train_set.dropna(inplace=True)\n",
        "  extra_regressor = ['gbpusd_close','consumer_price_index', 'GDP_US', 'inflation',\n",
        "       'US_UNRATE', 'FEDFUNDS', 'EU_INTEREST']\n",
        "  regress = train_set[extra_regressor]\n",
        "  test_set = forex_dfn2[window:].iloc[:14]\n",
        "  test_set = test_set[['ds','y']]\n",
        "  m = Prophet()\n",
        "  m.fit(train_set[['ds', 'y']])\n",
        "  future = m.make_future_dataframe(14,freq='B',include_history=False)\n",
        "  for col in range(regress.shape[1]):\n",
        "    fc_reg(regress.iloc[:,col],future)\n",
        "  m = Prophet(growth='linear', n_changepoints=7, changepoint_prior_scale=0.05)\n",
        "  m.add_seasonality(name='monthly', period=30.5, fourier_order=5)\n",
        "  m.add_seasonality(name='weekly', period=7, fourier_order=15)\n",
        "  for reg in extra_regressor:\n",
        "    m.add_regressor(name=reg, mode='additive')\n",
        "  m.fit(train_set)\n",
        "  forecast = m.predict(future)\n",
        "  forecast_results = forecast[['ds', 'yhat']]\n",
        "  forecast_results.set_index('ds', inplace=True)\n",
        "  final_df_results = pd.merge(test_set[['y']], forecast_results[['yhat']], left_index=True, right_index=True, how='inner')\n",
        "  elementwise_mae = np.absolute(np.subtract(final_df_results['y'].values, final_df_results['yhat'].values))\n",
        "  mean_mae = sum(elementwise_mae) / len(test_set)\n",
        "  maes = np.append(maes, mean_mae)\n",
        "  percent_mae = sum(elementwise_mae) / sum(test_set['y'])\n",
        "  maes_2 = np.append(maes_2, percent_mae)\n",
        "\n",
        "MEAN_PRC_MAE =np.average(maes_2)\n",
        "MEAN_MAE = np.average(maes)\n",
        "print(f\"MAE%: {MEAN_PRC_MAE * 100:.2f}%\")\n",
        "print(f\"Mean MAE: {MEAN_MAE:.2f}\")"
      ],
      "execution_count": null,
      "outputs": [
        {
          "output_type": "stream",
          "text": [
            "INFO:fbprophet:Disabling daily seasonality. Run prophet with daily_seasonality=True to override this.\n"
          ],
          "name": "stderr"
        },
        {
          "output_type": "error",
          "ename": "ValueError",
          "evalue": "ignored",
          "traceback": [
            "\u001b[0;31m---------------------------------------------------------------------------\u001b[0m",
            "\u001b[0;31mValueError\u001b[0m                                Traceback (most recent call last)",
            "\u001b[0;32m<ipython-input-31-21b620974362>\u001b[0m in \u001b[0;36m<module>\u001b[0;34m()\u001b[0m\n\u001b[1;32m     18\u001b[0m   \u001b[0mfuture\u001b[0m \u001b[0;34m=\u001b[0m \u001b[0mm\u001b[0m\u001b[0;34m.\u001b[0m\u001b[0mmake_future_dataframe\u001b[0m\u001b[0;34m(\u001b[0m\u001b[0;36m14\u001b[0m\u001b[0;34m,\u001b[0m\u001b[0mfreq\u001b[0m\u001b[0;34m=\u001b[0m\u001b[0;34m'B'\u001b[0m\u001b[0;34m,\u001b[0m\u001b[0minclude_history\u001b[0m\u001b[0;34m=\u001b[0m\u001b[0;32mFalse\u001b[0m\u001b[0;34m)\u001b[0m\u001b[0;34m\u001b[0m\u001b[0;34m\u001b[0m\u001b[0m\n\u001b[1;32m     19\u001b[0m   \u001b[0;32mfor\u001b[0m \u001b[0mcol\u001b[0m \u001b[0;32min\u001b[0m \u001b[0mrange\u001b[0m\u001b[0;34m(\u001b[0m\u001b[0mregress\u001b[0m\u001b[0;34m.\u001b[0m\u001b[0mshape\u001b[0m\u001b[0;34m[\u001b[0m\u001b[0;36m1\u001b[0m\u001b[0;34m]\u001b[0m\u001b[0;34m)\u001b[0m\u001b[0;34m:\u001b[0m\u001b[0;34m\u001b[0m\u001b[0;34m\u001b[0m\u001b[0m\n\u001b[0;32m---> 20\u001b[0;31m     \u001b[0mfc_reg\u001b[0m\u001b[0;34m(\u001b[0m\u001b[0mregress\u001b[0m\u001b[0;34m.\u001b[0m\u001b[0miloc\u001b[0m\u001b[0;34m[\u001b[0m\u001b[0;34m:\u001b[0m\u001b[0;34m,\u001b[0m\u001b[0mcol\u001b[0m\u001b[0;34m]\u001b[0m\u001b[0;34m,\u001b[0m\u001b[0mfuture\u001b[0m\u001b[0;34m)\u001b[0m\u001b[0;34m\u001b[0m\u001b[0;34m\u001b[0m\u001b[0m\n\u001b[0m\u001b[1;32m     21\u001b[0m   \u001b[0mm\u001b[0m \u001b[0;34m=\u001b[0m \u001b[0mProphet\u001b[0m\u001b[0;34m(\u001b[0m\u001b[0mgrowth\u001b[0m\u001b[0;34m=\u001b[0m\u001b[0;34m'linear'\u001b[0m\u001b[0;34m,\u001b[0m \u001b[0mn_changepoints\u001b[0m\u001b[0;34m=\u001b[0m\u001b[0;36m7\u001b[0m\u001b[0;34m,\u001b[0m \u001b[0mchangepoint_prior_scale\u001b[0m\u001b[0;34m=\u001b[0m\u001b[0;36m0.05\u001b[0m\u001b[0;34m)\u001b[0m\u001b[0;34m\u001b[0m\u001b[0;34m\u001b[0m\u001b[0m\n\u001b[1;32m     22\u001b[0m   \u001b[0mm\u001b[0m\u001b[0;34m.\u001b[0m\u001b[0madd_seasonality\u001b[0m\u001b[0;34m(\u001b[0m\u001b[0mname\u001b[0m\u001b[0;34m=\u001b[0m\u001b[0;34m'monthly'\u001b[0m\u001b[0;34m,\u001b[0m \u001b[0mperiod\u001b[0m\u001b[0;34m=\u001b[0m\u001b[0;36m30.5\u001b[0m\u001b[0;34m,\u001b[0m \u001b[0mfourier_order\u001b[0m\u001b[0;34m=\u001b[0m\u001b[0;36m5\u001b[0m\u001b[0;34m)\u001b[0m\u001b[0;34m\u001b[0m\u001b[0;34m\u001b[0m\u001b[0m\n",
            "\u001b[0;32m<ipython-input-28-22e19e5ed776>\u001b[0m in \u001b[0;36mfc_reg\u001b[0;34m(reg, future)\u001b[0m\n\u001b[1;32m     16\u001b[0m   \u001b[0maic\u001b[0m \u001b[0;34m=\u001b[0m \u001b[0mres\u001b[0m\u001b[0;34m.\u001b[0m\u001b[0maic_min_order\u001b[0m\u001b[0;34m\u001b[0m\u001b[0;34m\u001b[0m\u001b[0m\n\u001b[1;32m     17\u001b[0m   \u001b[0mmodel\u001b[0m \u001b[0;34m=\u001b[0m \u001b[0mtsa\u001b[0m\u001b[0;34m.\u001b[0m\u001b[0marima_model\u001b[0m\u001b[0;34m.\u001b[0m\u001b[0mARMA\u001b[0m\u001b[0;34m(\u001b[0m\u001b[0mreg\u001b[0m\u001b[0;34m,\u001b[0m \u001b[0morder\u001b[0m \u001b[0;34m=\u001b[0m \u001b[0maic\u001b[0m\u001b[0;34m)\u001b[0m\u001b[0;34m\u001b[0m\u001b[0;34m\u001b[0m\u001b[0m\n\u001b[0;32m---> 18\u001b[0;31m   \u001b[0mmodel_fit\u001b[0m \u001b[0;34m=\u001b[0m \u001b[0mmodel\u001b[0m\u001b[0;34m.\u001b[0m\u001b[0mfit\u001b[0m\u001b[0;34m(\u001b[0m\u001b[0;34m)\u001b[0m\u001b[0;34m\u001b[0m\u001b[0;34m\u001b[0m\u001b[0m\n\u001b[0m\u001b[1;32m     19\u001b[0m   \u001b[0moutput\u001b[0m \u001b[0;34m=\u001b[0m \u001b[0mmodel_fit\u001b[0m\u001b[0;34m.\u001b[0m\u001b[0mforecast\u001b[0m\u001b[0;34m(\u001b[0m\u001b[0;36m14\u001b[0m\u001b[0;34m)\u001b[0m\u001b[0;34m\u001b[0m\u001b[0;34m\u001b[0m\u001b[0m\n\u001b[1;32m     20\u001b[0m   \u001b[0myhat\u001b[0m \u001b[0;34m=\u001b[0m \u001b[0moutput\u001b[0m\u001b[0;34m[\u001b[0m\u001b[0;36m0\u001b[0m\u001b[0;34m]\u001b[0m\u001b[0;34m\u001b[0m\u001b[0;34m\u001b[0m\u001b[0m\n",
            "\u001b[0;32m/usr/local/lib/python3.7/dist-packages/statsmodels/tsa/arima_model.py\u001b[0m in \u001b[0;36mfit\u001b[0;34m(self, start_params, trend, method, transparams, solver, maxiter, full_output, disp, callback, start_ar_lags, **kwargs)\u001b[0m\n\u001b[1;32m    936\u001b[0m         \u001b[0;32melse\u001b[0m\u001b[0;34m:\u001b[0m  \u001b[0;31m# estimate starting parameters\u001b[0m\u001b[0;34m\u001b[0m\u001b[0;34m\u001b[0m\u001b[0m\n\u001b[1;32m    937\u001b[0m             start_params = self._fit_start_params((k_ar, k_ma, k), method,\n\u001b[0;32m--> 938\u001b[0;31m                                                   start_ar_lags)\n\u001b[0m\u001b[1;32m    939\u001b[0m \u001b[0;34m\u001b[0m\u001b[0m\n\u001b[1;32m    940\u001b[0m         \u001b[0;32mif\u001b[0m \u001b[0mtransparams\u001b[0m\u001b[0;34m:\u001b[0m  \u001b[0;31m# transform initial parameters to ensure invertibility\u001b[0m\u001b[0;34m\u001b[0m\u001b[0;34m\u001b[0m\u001b[0m\n",
            "\u001b[0;32m/usr/local/lib/python3.7/dist-packages/statsmodels/tsa/arima_model.py\u001b[0m in \u001b[0;36m_fit_start_params\u001b[0;34m(self, order, method, start_ar_lags)\u001b[0m\n\u001b[1;32m    552\u001b[0m             \u001b[0mfunc\u001b[0m \u001b[0;34m=\u001b[0m \u001b[0;32mlambda\u001b[0m \u001b[0mparams\u001b[0m\u001b[0;34m:\u001b[0m \u001b[0;34m-\u001b[0m\u001b[0mself\u001b[0m\u001b[0;34m.\u001b[0m\u001b[0mloglike_css\u001b[0m\u001b[0;34m(\u001b[0m\u001b[0mparams\u001b[0m\u001b[0;34m)\u001b[0m\u001b[0;34m\u001b[0m\u001b[0;34m\u001b[0m\u001b[0m\n\u001b[1;32m    553\u001b[0m             \u001b[0;31m#start_params = [.1]*(k_ar+k_ma+k_exog) # different one for k?\u001b[0m\u001b[0;34m\u001b[0m\u001b[0;34m\u001b[0m\u001b[0;34m\u001b[0m\u001b[0m\n\u001b[0;32m--> 554\u001b[0;31m             \u001b[0mstart_params\u001b[0m \u001b[0;34m=\u001b[0m \u001b[0mself\u001b[0m\u001b[0;34m.\u001b[0m\u001b[0m_fit_start_params_hr\u001b[0m\u001b[0;34m(\u001b[0m\u001b[0morder\u001b[0m\u001b[0;34m,\u001b[0m \u001b[0mstart_ar_lags\u001b[0m\u001b[0;34m)\u001b[0m\u001b[0;34m\u001b[0m\u001b[0;34m\u001b[0m\u001b[0m\n\u001b[0m\u001b[1;32m    555\u001b[0m             \u001b[0;32mif\u001b[0m \u001b[0mself\u001b[0m\u001b[0;34m.\u001b[0m\u001b[0mtransparams\u001b[0m\u001b[0;34m:\u001b[0m\u001b[0;34m\u001b[0m\u001b[0;34m\u001b[0m\u001b[0m\n\u001b[1;32m    556\u001b[0m                 \u001b[0mstart_params\u001b[0m \u001b[0;34m=\u001b[0m \u001b[0mself\u001b[0m\u001b[0;34m.\u001b[0m\u001b[0m_invtransparams\u001b[0m\u001b[0;34m(\u001b[0m\u001b[0mstart_params\u001b[0m\u001b[0;34m)\u001b[0m\u001b[0;34m\u001b[0m\u001b[0;34m\u001b[0m\u001b[0m\n",
            "\u001b[0;32m/usr/local/lib/python3.7/dist-packages/statsmodels/tsa/arima_model.py\u001b[0m in \u001b[0;36m_fit_start_params_hr\u001b[0;34m(self, order, start_ar_lags)\u001b[0m\n\u001b[1;32m    531\u001b[0m         if p and not np.all(np.abs(np.roots(np.r_[1, -start_params[k:k + p]]\n\u001b[1;32m    532\u001b[0m                                             )) < 1):\n\u001b[0;32m--> 533\u001b[0;31m             raise ValueError(\"The computed initial AR coefficients are not \"\n\u001b[0m\u001b[1;32m    534\u001b[0m                              \u001b[0;34m\"stationary\\nYou should induce stationarity, \"\u001b[0m\u001b[0;34m\u001b[0m\u001b[0;34m\u001b[0m\u001b[0m\n\u001b[1;32m    535\u001b[0m                              \u001b[0;34m\"choose a different model order, or you can\\n\"\u001b[0m\u001b[0;34m\u001b[0m\u001b[0;34m\u001b[0m\u001b[0m\n",
            "\u001b[0;31mValueError\u001b[0m: The computed initial AR coefficients are not stationary\nYou should induce stationarity, choose a different model order, or you can\npass your own start_params."
          ]
        }
      ]
    },
    {
      "cell_type": "code",
      "metadata": {
        "colab": {
          "base_uri": "https://localhost:8080/"
        },
        "id": "wqwJVxwGLce3",
        "outputId": "6f9e29cf-877f-4a85-9b20-37dd4c24eb92"
      },
      "source": [
        "sum(test['y'])"
      ],
      "execution_count": null,
      "outputs": [
        {
          "output_type": "execute_result",
          "data": {
            "text/plain": [
              "16.926372528076172"
            ]
          },
          "metadata": {
            "tags": []
          },
          "execution_count": 206
        }
      ]
    },
    {
      "cell_type": "code",
      "metadata": {
        "colab": {
          "base_uri": "https://localhost:8080/"
        },
        "id": "APPi8zxGCiUa",
        "outputId": "6e30da57-19af-423b-d2db-3db200ed990b"
      },
      "source": [
        "elementwise_mae = np.absolute(np.subtract(final_df_results['y'].values, final_df_results['yhat'].values))\n",
        "mean_mae = sum(elementwise_mae) / len(test)\n",
        "mean_mae"
      ],
      "execution_count": null,
      "outputs": [
        {
          "output_type": "execute_result",
          "data": {
            "text/plain": [
              "0.006795069433346687"
            ]
          },
          "metadata": {
            "tags": []
          },
          "execution_count": 192
        }
      ]
    },
    {
      "cell_type": "markdown",
      "metadata": {
        "id": "FJaE1_t8NxRR"
      },
      "source": [
        "## Now let's finally forecast the actual next 14 days "
      ]
    },
    {
      "cell_type": "code",
      "metadata": {
        "id": "j2pfWW9m8JSo"
      },
      "source": [
        "extra_regressor = ['covid_US', 'covid_EU','gbpusd_close','eurjpy_close','consumer_price_index', 'GDP_US', 'inflation',\n",
        "       'US_UNRATE', 'FEDFUNDS', 'EU_INTEREST', 'EU_REPO','usdcad_close', 'audusd_close','usdjpy_close']"
      ],
      "execution_count": null,
      "outputs": []
    },
    {
      "cell_type": "code",
      "metadata": {
        "id": "YZ68w7vm8ux6"
      },
      "source": [
        "# define test and train window\n",
        "train_window =  ['2010-01-03','2021-06-11']\n",
        "test_window = ['2021-06-14']\n",
        "test = forex_dfn2.loc[test_window[0]:]\n",
        "test = test[['ds','y']]\n",
        "forex_dfn2 = forex_dfn2[:train_window[1]]"
      ],
      "execution_count": null,
      "outputs": []
    },
    {
      "cell_type": "code",
      "metadata": {
        "colab": {
          "base_uri": "https://localhost:8080/",
          "height": 268
        },
        "id": "Sb0PGJ-8-o9F",
        "outputId": "126eccbf-e4c4-4cc3-a474-f82dad63ad77"
      },
      "source": [
        "test"
      ],
      "execution_count": null,
      "outputs": [
        {
          "output_type": "execute_result",
          "data": {
            "text/html": [
              "<div>\n",
              "<style scoped>\n",
              "    .dataframe tbody tr th:only-of-type {\n",
              "        vertical-align: middle;\n",
              "    }\n",
              "\n",
              "    .dataframe tbody tr th {\n",
              "        vertical-align: top;\n",
              "    }\n",
              "\n",
              "    .dataframe thead th {\n",
              "        text-align: right;\n",
              "    }\n",
              "</style>\n",
              "<table border=\"1\" class=\"dataframe\">\n",
              "  <thead>\n",
              "    <tr style=\"text-align: right;\">\n",
              "      <th></th>\n",
              "      <th>ds</th>\n",
              "      <th>y</th>\n",
              "    </tr>\n",
              "    <tr>\n",
              "      <th>Date</th>\n",
              "      <th></th>\n",
              "      <th></th>\n",
              "    </tr>\n",
              "  </thead>\n",
              "  <tbody>\n",
              "    <tr>\n",
              "      <th>2021-06-14</th>\n",
              "      <td>2021-06-14</td>\n",
              "      <td>1.211020</td>\n",
              "    </tr>\n",
              "    <tr>\n",
              "      <th>2021-06-15</th>\n",
              "      <td>2021-06-15</td>\n",
              "      <td>1.212224</td>\n",
              "    </tr>\n",
              "    <tr>\n",
              "      <th>2021-06-16</th>\n",
              "      <td>2021-06-16</td>\n",
              "      <td>1.212709</td>\n",
              "    </tr>\n",
              "    <tr>\n",
              "      <th>2021-06-17</th>\n",
              "      <td>2021-06-17</td>\n",
              "      <td>1.199559</td>\n",
              "    </tr>\n",
              "    <tr>\n",
              "      <th>2021-06-18</th>\n",
              "      <td>2021-06-18</td>\n",
              "      <td>1.191341</td>\n",
              "    </tr>\n",
              "    <tr>\n",
              "      <th>2021-06-21</th>\n",
              "      <td>2021-06-21</td>\n",
              "      <td>1.190051</td>\n",
              "    </tr>\n",
              "  </tbody>\n",
              "</table>\n",
              "</div>"
            ],
            "text/plain": [
              "                   ds         y\n",
              "Date                           \n",
              "2021-06-14 2021-06-14  1.211020\n",
              "2021-06-15 2021-06-15  1.212224\n",
              "2021-06-16 2021-06-16  1.212709\n",
              "2021-06-17 2021-06-17  1.199559\n",
              "2021-06-18 2021-06-18  1.191341\n",
              "2021-06-21 2021-06-21  1.190051"
            ]
          },
          "metadata": {
            "tags": []
          },
          "execution_count": 34
        }
      ]
    },
    {
      "cell_type": "code",
      "metadata": {
        "colab": {
          "base_uri": "https://localhost:8080/"
        },
        "id": "6mLCEbJXNwfF",
        "outputId": "ad2f7cb1-88f2-4a00-e21e-9ddb73b71682"
      },
      "source": [
        "forex_dfn2 = forex_dfn2.fillna(method='ffill')\n",
        "forex_dfn2 = forex_dfn2.dropna()\n",
        "regressors = forex_dfn2[extra_regressor]\n",
        "m = Prophet()\n",
        "m.fit(forex_dfn2[['ds', 'y']])\n",
        "m = Prophet(growth='linear',n_changepoints=7, changepoint_prior_scale=0.05)\n",
        "m.add_seasonality(name='monthly', period=30.5, fourier_order=5)\n",
        "m.add_seasonality(name='weekly', period=7, fourier_order=15)\n",
        "for reg in extra_regressor:\n",
        "  m.add_regressor(name=reg, mode='additive') \n",
        "m.fit(forex_dfn2)\n",
        "future = m.make_future_dataframe(14,freq='B',include_history=False) #ADDING 14 DAYS OF THE TEST SET\n",
        "for col in range(regressors.shape[1]):\n",
        "  fc_reg(regressors.iloc[:,col],future)"
      ],
      "execution_count": null,
      "outputs": [
        {
          "output_type": "stream",
          "text": [
            "INFO:fbprophet:Disabling daily seasonality. Run prophet with daily_seasonality=True to override this.\n",
            "INFO:fbprophet:Found custom seasonality named 'weekly', disabling built-in 'weekly' seasonality.\n",
            "INFO:fbprophet:Disabling daily seasonality. Run prophet with daily_seasonality=True to override this.\n",
            "/usr/local/lib/python3.7/dist-packages/statsmodels/tsa/base/tsa_model.py:219: ValueWarning:\n",
            "\n",
            "A date index has been provided, but it has no associated frequency information and so will be ignored when e.g. forecasting.\n",
            "\n",
            "/usr/local/lib/python3.7/dist-packages/statsmodels/tsa/base/tsa_model.py:219: ValueWarning:\n",
            "\n",
            "A date index has been provided, but it has no associated frequency information and so will be ignored when e.g. forecasting.\n",
            "\n",
            "/usr/local/lib/python3.7/dist-packages/statsmodels/tsa/base/tsa_model.py:219: ValueWarning:\n",
            "\n",
            "A date index has been provided, but it has no associated frequency information and so will be ignored when e.g. forecasting.\n",
            "\n",
            "/usr/local/lib/python3.7/dist-packages/statsmodels/tsa/base/tsa_model.py:219: ValueWarning:\n",
            "\n",
            "A date index has been provided, but it has no associated frequency information and so will be ignored when e.g. forecasting.\n",
            "\n",
            "/usr/local/lib/python3.7/dist-packages/statsmodels/tsa/kalmanf/kalmanfilter.py:221: RuntimeWarning:\n",
            "\n",
            "divide by zero encountered in true_divide\n",
            "\n",
            "/usr/local/lib/python3.7/dist-packages/statsmodels/base/model.py:492: HessianInversionWarning:\n",
            "\n",
            "Inverting hessian failed, no bse or cov_params available\n",
            "\n",
            "/usr/local/lib/python3.7/dist-packages/statsmodels/base/model.py:492: HessianInversionWarning:\n",
            "\n",
            "Inverting hessian failed, no bse or cov_params available\n",
            "\n",
            "/usr/local/lib/python3.7/dist-packages/statsmodels/base/model.py:492: HessianInversionWarning:\n",
            "\n",
            "Inverting hessian failed, no bse or cov_params available\n",
            "\n",
            "/usr/local/lib/python3.7/dist-packages/statsmodels/base/model.py:512: ConvergenceWarning:\n",
            "\n",
            "Maximum Likelihood optimization failed to converge. Check mle_retvals\n",
            "\n",
            "/usr/local/lib/python3.7/dist-packages/statsmodels/base/model.py:492: HessianInversionWarning:\n",
            "\n",
            "Inverting hessian failed, no bse or cov_params available\n",
            "\n",
            "/usr/local/lib/python3.7/dist-packages/statsmodels/base/model.py:512: ConvergenceWarning:\n",
            "\n",
            "Maximum Likelihood optimization failed to converge. Check mle_retvals\n",
            "\n",
            "/usr/local/lib/python3.7/dist-packages/statsmodels/tsa/tsatools.py:668: RuntimeWarning:\n",
            "\n",
            "overflow encountered in exp\n",
            "\n",
            "/usr/local/lib/python3.7/dist-packages/statsmodels/tsa/tsatools.py:668: RuntimeWarning:\n",
            "\n",
            "invalid value encountered in true_divide\n",
            "\n",
            "/usr/local/lib/python3.7/dist-packages/statsmodels/tsa/tsatools.py:669: RuntimeWarning:\n",
            "\n",
            "overflow encountered in exp\n",
            "\n",
            "/usr/local/lib/python3.7/dist-packages/statsmodels/tsa/tsatools.py:669: RuntimeWarning:\n",
            "\n",
            "invalid value encountered in true_divide\n",
            "\n",
            "/usr/local/lib/python3.7/dist-packages/statsmodels/base/model.py:492: HessianInversionWarning:\n",
            "\n",
            "Inverting hessian failed, no bse or cov_params available\n",
            "\n",
            "/usr/local/lib/python3.7/dist-packages/statsmodels/base/model.py:512: ConvergenceWarning:\n",
            "\n",
            "Maximum Likelihood optimization failed to converge. Check mle_retvals\n",
            "\n",
            "/usr/local/lib/python3.7/dist-packages/statsmodels/base/model.py:492: HessianInversionWarning:\n",
            "\n",
            "Inverting hessian failed, no bse or cov_params available\n",
            "\n",
            "/usr/local/lib/python3.7/dist-packages/statsmodels/base/model.py:512: ConvergenceWarning:\n",
            "\n",
            "Maximum Likelihood optimization failed to converge. Check mle_retvals\n",
            "\n",
            "/usr/local/lib/python3.7/dist-packages/statsmodels/base/model.py:492: HessianInversionWarning:\n",
            "\n",
            "Inverting hessian failed, no bse or cov_params available\n",
            "\n",
            "/usr/local/lib/python3.7/dist-packages/statsmodels/base/model.py:492: HessianInversionWarning:\n",
            "\n",
            "Inverting hessian failed, no bse or cov_params available\n",
            "\n",
            "/usr/local/lib/python3.7/dist-packages/statsmodels/base/model.py:512: ConvergenceWarning:\n",
            "\n",
            "Maximum Likelihood optimization failed to converge. Check mle_retvals\n",
            "\n",
            "/usr/local/lib/python3.7/dist-packages/statsmodels/base/model.py:492: HessianInversionWarning:\n",
            "\n",
            "Inverting hessian failed, no bse or cov_params available\n",
            "\n",
            "/usr/local/lib/python3.7/dist-packages/statsmodels/base/model.py:512: ConvergenceWarning:\n",
            "\n",
            "Maximum Likelihood optimization failed to converge. Check mle_retvals\n",
            "\n",
            "/usr/local/lib/python3.7/dist-packages/statsmodels/tsa/base/tsa_model.py:219: ValueWarning:\n",
            "\n",
            "A date index has been provided, but it has no associated frequency information and so will be ignored when e.g. forecasting.\n",
            "\n",
            "/usr/local/lib/python3.7/dist-packages/statsmodels/tsa/kalmanf/kalmanfilter.py:221: RuntimeWarning:\n",
            "\n",
            "divide by zero encountered in true_divide\n",
            "\n",
            "/usr/local/lib/python3.7/dist-packages/statsmodels/base/model.py:492: HessianInversionWarning:\n",
            "\n",
            "Inverting hessian failed, no bse or cov_params available\n",
            "\n",
            "/usr/local/lib/python3.7/dist-packages/statsmodels/base/model.py:512: ConvergenceWarning:\n",
            "\n",
            "Maximum Likelihood optimization failed to converge. Check mle_retvals\n",
            "\n",
            "/usr/local/lib/python3.7/dist-packages/statsmodels/base/model.py:492: HessianInversionWarning:\n",
            "\n",
            "Inverting hessian failed, no bse or cov_params available\n",
            "\n",
            "/usr/local/lib/python3.7/dist-packages/statsmodels/base/model.py:512: ConvergenceWarning:\n",
            "\n",
            "Maximum Likelihood optimization failed to converge. Check mle_retvals\n",
            "\n",
            "/usr/local/lib/python3.7/dist-packages/statsmodels/base/model.py:492: HessianInversionWarning:\n",
            "\n",
            "Inverting hessian failed, no bse or cov_params available\n",
            "\n",
            "/usr/local/lib/python3.7/dist-packages/statsmodels/base/model.py:492: HessianInversionWarning:\n",
            "\n",
            "Inverting hessian failed, no bse or cov_params available\n",
            "\n",
            "/usr/local/lib/python3.7/dist-packages/statsmodels/base/model.py:512: ConvergenceWarning:\n",
            "\n",
            "Maximum Likelihood optimization failed to converge. Check mle_retvals\n",
            "\n",
            "/usr/local/lib/python3.7/dist-packages/statsmodels/tsa/tsatools.py:668: RuntimeWarning:\n",
            "\n",
            "overflow encountered in exp\n",
            "\n",
            "/usr/local/lib/python3.7/dist-packages/statsmodels/tsa/tsatools.py:668: RuntimeWarning:\n",
            "\n",
            "invalid value encountered in true_divide\n",
            "\n",
            "/usr/local/lib/python3.7/dist-packages/statsmodels/tsa/tsatools.py:669: RuntimeWarning:\n",
            "\n",
            "overflow encountered in exp\n",
            "\n",
            "/usr/local/lib/python3.7/dist-packages/statsmodels/tsa/tsatools.py:669: RuntimeWarning:\n",
            "\n",
            "invalid value encountered in true_divide\n",
            "\n",
            "/usr/local/lib/python3.7/dist-packages/statsmodels/base/model.py:492: HessianInversionWarning:\n",
            "\n",
            "Inverting hessian failed, no bse or cov_params available\n",
            "\n",
            "/usr/local/lib/python3.7/dist-packages/statsmodels/base/model.py:492: HessianInversionWarning:\n",
            "\n",
            "Inverting hessian failed, no bse or cov_params available\n",
            "\n",
            "/usr/local/lib/python3.7/dist-packages/statsmodels/base/model.py:492: HessianInversionWarning:\n",
            "\n",
            "Inverting hessian failed, no bse or cov_params available\n",
            "\n",
            "/usr/local/lib/python3.7/dist-packages/statsmodels/base/model.py:512: ConvergenceWarning:\n",
            "\n",
            "Maximum Likelihood optimization failed to converge. Check mle_retvals\n",
            "\n",
            "/usr/local/lib/python3.7/dist-packages/statsmodels/base/model.py:492: HessianInversionWarning:\n",
            "\n",
            "Inverting hessian failed, no bse or cov_params available\n",
            "\n",
            "/usr/local/lib/python3.7/dist-packages/statsmodels/base/model.py:512: ConvergenceWarning:\n",
            "\n",
            "Maximum Likelihood optimization failed to converge. Check mle_retvals\n",
            "\n",
            "/usr/local/lib/python3.7/dist-packages/statsmodels/tsa/base/tsa_model.py:219: ValueWarning:\n",
            "\n",
            "A date index has been provided, but it has no associated frequency information and so will be ignored when e.g. forecasting.\n",
            "\n",
            "/usr/local/lib/python3.7/dist-packages/statsmodels/tsa/base/tsa_model.py:219: ValueWarning:\n",
            "\n",
            "A date index has been provided, but it has no associated frequency information and so will be ignored when e.g. forecasting.\n",
            "\n",
            "/usr/local/lib/python3.7/dist-packages/statsmodels/base/model.py:492: HessianInversionWarning:\n",
            "\n",
            "Inverting hessian failed, no bse or cov_params available\n",
            "\n",
            "/usr/local/lib/python3.7/dist-packages/statsmodels/base/model.py:512: ConvergenceWarning:\n",
            "\n",
            "Maximum Likelihood optimization failed to converge. Check mle_retvals\n",
            "\n",
            "/usr/local/lib/python3.7/dist-packages/statsmodels/base/model.py:512: ConvergenceWarning:\n",
            "\n",
            "Maximum Likelihood optimization failed to converge. Check mle_retvals\n",
            "\n",
            "/usr/local/lib/python3.7/dist-packages/statsmodels/tsa/base/tsa_model.py:219: ValueWarning:\n",
            "\n",
            "A date index has been provided, but it has no associated frequency information and so will be ignored when e.g. forecasting.\n",
            "\n",
            "/usr/local/lib/python3.7/dist-packages/statsmodels/base/model.py:492: HessianInversionWarning:\n",
            "\n",
            "Inverting hessian failed, no bse or cov_params available\n",
            "\n",
            "/usr/local/lib/python3.7/dist-packages/statsmodels/base/model.py:512: ConvergenceWarning:\n",
            "\n",
            "Maximum Likelihood optimization failed to converge. Check mle_retvals\n",
            "\n",
            "/usr/local/lib/python3.7/dist-packages/statsmodels/base/model.py:492: HessianInversionWarning:\n",
            "\n",
            "Inverting hessian failed, no bse or cov_params available\n",
            "\n",
            "/usr/local/lib/python3.7/dist-packages/statsmodels/base/model.py:492: HessianInversionWarning:\n",
            "\n",
            "Inverting hessian failed, no bse or cov_params available\n",
            "\n",
            "/usr/local/lib/python3.7/dist-packages/statsmodels/base/model.py:492: HessianInversionWarning:\n",
            "\n",
            "Inverting hessian failed, no bse or cov_params available\n",
            "\n",
            "/usr/local/lib/python3.7/dist-packages/statsmodels/base/model.py:492: HessianInversionWarning:\n",
            "\n",
            "Inverting hessian failed, no bse or cov_params available\n",
            "\n",
            "/usr/local/lib/python3.7/dist-packages/statsmodels/base/model.py:492: HessianInversionWarning:\n",
            "\n",
            "Inverting hessian failed, no bse or cov_params available\n",
            "\n",
            "/usr/local/lib/python3.7/dist-packages/statsmodels/tsa/base/tsa_model.py:219: ValueWarning:\n",
            "\n",
            "A date index has been provided, but it has no associated frequency information and so will be ignored when e.g. forecasting.\n",
            "\n",
            "/usr/local/lib/python3.7/dist-packages/statsmodels/base/model.py:492: HessianInversionWarning:\n",
            "\n",
            "Inverting hessian failed, no bse or cov_params available\n",
            "\n",
            "/usr/local/lib/python3.7/dist-packages/statsmodels/tsa/tsatools.py:693: RuntimeWarning:\n",
            "\n",
            "invalid value encountered in double_scalars\n",
            "\n",
            "/usr/local/lib/python3.7/dist-packages/statsmodels/tsa/tsatools.py:695: RuntimeWarning:\n",
            "\n",
            "divide by zero encountered in log\n",
            "\n",
            "/usr/local/lib/python3.7/dist-packages/statsmodels/base/model.py:492: HessianInversionWarning:\n",
            "\n",
            "Inverting hessian failed, no bse or cov_params available\n",
            "\n",
            "/usr/local/lib/python3.7/dist-packages/statsmodels/tsa/base/tsa_model.py:219: ValueWarning:\n",
            "\n",
            "A date index has been provided, but it has no associated frequency information and so will be ignored when e.g. forecasting.\n",
            "\n",
            "/usr/local/lib/python3.7/dist-packages/statsmodels/tsa/tsatools.py:668: RuntimeWarning:\n",
            "\n",
            "overflow encountered in exp\n",
            "\n",
            "/usr/local/lib/python3.7/dist-packages/statsmodels/tsa/tsatools.py:668: RuntimeWarning:\n",
            "\n",
            "invalid value encountered in true_divide\n",
            "\n",
            "/usr/local/lib/python3.7/dist-packages/statsmodels/tsa/tsatools.py:669: RuntimeWarning:\n",
            "\n",
            "overflow encountered in exp\n",
            "\n",
            "/usr/local/lib/python3.7/dist-packages/statsmodels/tsa/tsatools.py:669: RuntimeWarning:\n",
            "\n",
            "invalid value encountered in true_divide\n",
            "\n",
            "/usr/local/lib/python3.7/dist-packages/statsmodels/tsa/base/tsa_model.py:219: ValueWarning:\n",
            "\n",
            "A date index has been provided, but it has no associated frequency information and so will be ignored when e.g. forecasting.\n",
            "\n",
            "/usr/local/lib/python3.7/dist-packages/statsmodels/tsa/base/tsa_model.py:219: ValueWarning:\n",
            "\n",
            "A date index has been provided, but it has no associated frequency information and so will be ignored when e.g. forecasting.\n",
            "\n",
            "/usr/local/lib/python3.7/dist-packages/statsmodels/tsa/base/tsa_model.py:219: ValueWarning:\n",
            "\n",
            "A date index has been provided, but it has no associated frequency information and so will be ignored when e.g. forecasting.\n",
            "\n",
            "/usr/local/lib/python3.7/dist-packages/statsmodels/tsa/base/tsa_model.py:219: ValueWarning:\n",
            "\n",
            "A date index has been provided, but it has no associated frequency information and so will be ignored when e.g. forecasting.\n",
            "\n"
          ],
          "name": "stderr"
        }
      ]
    },
    {
      "cell_type": "markdown",
      "metadata": {
        "id": "4Pkpa6XwPyWG"
      },
      "source": [
        "## Here they are!"
      ]
    },
    {
      "cell_type": "code",
      "metadata": {
        "colab": {
          "base_uri": "https://localhost:8080/",
          "height": 518
        },
        "id": "16tvM4g9N6PB",
        "outputId": "414826ab-456a-4f83-9990-2c60af086e85"
      },
      "source": [
        "forecast = m.predict(future)\n",
        "forecast_results = forecast[['ds', 'yhat', 'yhat_lower', 'yhat_upper']]\n",
        "forecast_results.set_index('ds', inplace=True)\n",
        "\n",
        "forecast_results"
      ],
      "execution_count": null,
      "outputs": [
        {
          "output_type": "execute_result",
          "data": {
            "text/html": [
              "<div>\n",
              "<style scoped>\n",
              "    .dataframe tbody tr th:only-of-type {\n",
              "        vertical-align: middle;\n",
              "    }\n",
              "\n",
              "    .dataframe tbody tr th {\n",
              "        vertical-align: top;\n",
              "    }\n",
              "\n",
              "    .dataframe thead th {\n",
              "        text-align: right;\n",
              "    }\n",
              "</style>\n",
              "<table border=\"1\" class=\"dataframe\">\n",
              "  <thead>\n",
              "    <tr style=\"text-align: right;\">\n",
              "      <th></th>\n",
              "      <th>yhat</th>\n",
              "      <th>yhat_lower</th>\n",
              "      <th>yhat_upper</th>\n",
              "    </tr>\n",
              "    <tr>\n",
              "      <th>ds</th>\n",
              "      <th></th>\n",
              "      <th></th>\n",
              "      <th></th>\n",
              "    </tr>\n",
              "  </thead>\n",
              "  <tbody>\n",
              "    <tr>\n",
              "      <th>2021-06-14</th>\n",
              "      <td>1.216847</td>\n",
              "      <td>1.215754</td>\n",
              "      <td>1.217988</td>\n",
              "    </tr>\n",
              "    <tr>\n",
              "      <th>2021-06-15</th>\n",
              "      <td>1.216502</td>\n",
              "      <td>1.215346</td>\n",
              "      <td>1.217631</td>\n",
              "    </tr>\n",
              "    <tr>\n",
              "      <th>2021-06-16</th>\n",
              "      <td>1.216122</td>\n",
              "      <td>1.214969</td>\n",
              "      <td>1.217173</td>\n",
              "    </tr>\n",
              "    <tr>\n",
              "      <th>2021-06-17</th>\n",
              "      <td>1.215865</td>\n",
              "      <td>1.214711</td>\n",
              "      <td>1.217022</td>\n",
              "    </tr>\n",
              "    <tr>\n",
              "      <th>2021-06-18</th>\n",
              "      <td>1.215454</td>\n",
              "      <td>1.214239</td>\n",
              "      <td>1.216544</td>\n",
              "    </tr>\n",
              "    <tr>\n",
              "      <th>2021-06-21</th>\n",
              "      <td>1.214988</td>\n",
              "      <td>1.213940</td>\n",
              "      <td>1.216186</td>\n",
              "    </tr>\n",
              "    <tr>\n",
              "      <th>2021-06-22</th>\n",
              "      <td>1.214532</td>\n",
              "      <td>1.213449</td>\n",
              "      <td>1.215767</td>\n",
              "    </tr>\n",
              "    <tr>\n",
              "      <th>2021-06-23</th>\n",
              "      <td>1.214134</td>\n",
              "      <td>1.213011</td>\n",
              "      <td>1.215264</td>\n",
              "    </tr>\n",
              "    <tr>\n",
              "      <th>2021-06-24</th>\n",
              "      <td>1.213850</td>\n",
              "      <td>1.212740</td>\n",
              "      <td>1.214962</td>\n",
              "    </tr>\n",
              "    <tr>\n",
              "      <th>2021-06-25</th>\n",
              "      <td>1.213441</td>\n",
              "      <td>1.212311</td>\n",
              "      <td>1.214592</td>\n",
              "    </tr>\n",
              "    <tr>\n",
              "      <th>2021-06-28</th>\n",
              "      <td>1.212836</td>\n",
              "      <td>1.211715</td>\n",
              "      <td>1.213979</td>\n",
              "    </tr>\n",
              "    <tr>\n",
              "      <th>2021-06-29</th>\n",
              "      <td>1.212328</td>\n",
              "      <td>1.211137</td>\n",
              "      <td>1.213465</td>\n",
              "    </tr>\n",
              "    <tr>\n",
              "      <th>2021-06-30</th>\n",
              "      <td>1.211885</td>\n",
              "      <td>1.210739</td>\n",
              "      <td>1.213001</td>\n",
              "    </tr>\n",
              "    <tr>\n",
              "      <th>2021-07-01</th>\n",
              "      <td>1.211588</td>\n",
              "      <td>1.210508</td>\n",
              "      <td>1.212792</td>\n",
              "    </tr>\n",
              "  </tbody>\n",
              "</table>\n",
              "</div>"
            ],
            "text/plain": [
              "                yhat  yhat_lower  yhat_upper\n",
              "ds                                          \n",
              "2021-06-14  1.216847    1.215754    1.217988\n",
              "2021-06-15  1.216502    1.215346    1.217631\n",
              "2021-06-16  1.216122    1.214969    1.217173\n",
              "2021-06-17  1.215865    1.214711    1.217022\n",
              "2021-06-18  1.215454    1.214239    1.216544\n",
              "2021-06-21  1.214988    1.213940    1.216186\n",
              "2021-06-22  1.214532    1.213449    1.215767\n",
              "2021-06-23  1.214134    1.213011    1.215264\n",
              "2021-06-24  1.213850    1.212740    1.214962\n",
              "2021-06-25  1.213441    1.212311    1.214592\n",
              "2021-06-28  1.212836    1.211715    1.213979\n",
              "2021-06-29  1.212328    1.211137    1.213465\n",
              "2021-06-30  1.211885    1.210739    1.213001\n",
              "2021-07-01  1.211588    1.210508    1.212792"
            ]
          },
          "metadata": {
            "tags": []
          },
          "execution_count": 36
        }
      ]
    },
    {
      "cell_type": "code",
      "metadata": {
        "colab": {
          "base_uri": "https://localhost:8080/",
          "height": 268
        },
        "id": "-YSGTNnd-Otm",
        "outputId": "ea389d2f-67e5-45ac-d2aa-3e8be5e54b13"
      },
      "source": [
        "final_df_results = pd.merge(test['y'], forecast_results[['yhat']], left_index=True, right_index=True, how='left')\n",
        "final_df_results"
      ],
      "execution_count": null,
      "outputs": [
        {
          "output_type": "execute_result",
          "data": {
            "text/html": [
              "<div>\n",
              "<style scoped>\n",
              "    .dataframe tbody tr th:only-of-type {\n",
              "        vertical-align: middle;\n",
              "    }\n",
              "\n",
              "    .dataframe tbody tr th {\n",
              "        vertical-align: top;\n",
              "    }\n",
              "\n",
              "    .dataframe thead th {\n",
              "        text-align: right;\n",
              "    }\n",
              "</style>\n",
              "<table border=\"1\" class=\"dataframe\">\n",
              "  <thead>\n",
              "    <tr style=\"text-align: right;\">\n",
              "      <th></th>\n",
              "      <th>y</th>\n",
              "      <th>yhat</th>\n",
              "    </tr>\n",
              "    <tr>\n",
              "      <th>Date</th>\n",
              "      <th></th>\n",
              "      <th></th>\n",
              "    </tr>\n",
              "  </thead>\n",
              "  <tbody>\n",
              "    <tr>\n",
              "      <th>2021-06-14</th>\n",
              "      <td>1.211020</td>\n",
              "      <td>1.216847</td>\n",
              "    </tr>\n",
              "    <tr>\n",
              "      <th>2021-06-15</th>\n",
              "      <td>1.212224</td>\n",
              "      <td>1.216502</td>\n",
              "    </tr>\n",
              "    <tr>\n",
              "      <th>2021-06-16</th>\n",
              "      <td>1.212709</td>\n",
              "      <td>1.216122</td>\n",
              "    </tr>\n",
              "    <tr>\n",
              "      <th>2021-06-17</th>\n",
              "      <td>1.199559</td>\n",
              "      <td>1.215865</td>\n",
              "    </tr>\n",
              "    <tr>\n",
              "      <th>2021-06-18</th>\n",
              "      <td>1.191341</td>\n",
              "      <td>1.215454</td>\n",
              "    </tr>\n",
              "    <tr>\n",
              "      <th>2021-06-21</th>\n",
              "      <td>1.190051</td>\n",
              "      <td>1.214988</td>\n",
              "    </tr>\n",
              "  </tbody>\n",
              "</table>\n",
              "</div>"
            ],
            "text/plain": [
              "                   y      yhat\n",
              "Date                          \n",
              "2021-06-14  1.211020  1.216847\n",
              "2021-06-15  1.212224  1.216502\n",
              "2021-06-16  1.212709  1.216122\n",
              "2021-06-17  1.199559  1.215865\n",
              "2021-06-18  1.191341  1.215454\n",
              "2021-06-21  1.190051  1.214988"
            ]
          },
          "metadata": {
            "tags": []
          },
          "execution_count": 37
        }
      ]
    },
    {
      "cell_type": "code",
      "metadata": {
        "colab": {
          "base_uri": "https://localhost:8080/",
          "height": 542
        },
        "id": "rk3HjjEf_9vW",
        "outputId": "14108a2f-ad71-459d-88a2-f7bde0ece534"
      },
      "source": [
        "# explore results on the forecast window\n",
        "import plotly.graph_objects as go\n",
        "fig = go.Figure()\n",
        "\n",
        "fig.add_trace(go.Scatter(x=final_df_results.index, y=final_df_results['y'],\n",
        "                    mode='lines+markers',\n",
        "                    name='Real Values'))\n",
        "\n",
        "fig.add_trace(go.Scatter(x=forecast_results.index, y=forecast_results['yhat'],\n",
        "                    mode='lines+markers',\n",
        "                    name='Predicted Values'))\n",
        "\n",
        "fig.update_layout(template='plotly_white')\n",
        "fig.show()"
      ],
      "execution_count": null,
      "outputs": [
        {
          "output_type": "display_data",
          "data": {
            "text/html": [
              "<html>\n",
              "<head><meta charset=\"utf-8\" /></head>\n",
              "<body>\n",
              "    <div>\n",
              "            <script src=\"https://cdnjs.cloudflare.com/ajax/libs/mathjax/2.7.5/MathJax.js?config=TeX-AMS-MML_SVG\"></script><script type=\"text/javascript\">if (window.MathJax) {MathJax.Hub.Config({SVG: {font: \"STIX-Web\"}});}</script>\n",
              "                <script type=\"text/javascript\">window.PlotlyConfig = {MathJaxConfig: 'local'};</script>\n",
              "        <script src=\"https://cdn.plot.ly/plotly-latest.min.js\"></script>    \n",
              "            <div id=\"f2c1e73c-51b3-497b-b643-399bd9c9b2b8\" class=\"plotly-graph-div\" style=\"height:525px; width:100%;\"></div>\n",
              "            <script type=\"text/javascript\">\n",
              "                \n",
              "                    window.PLOTLYENV=window.PLOTLYENV || {};\n",
              "                    \n",
              "                if (document.getElementById(\"f2c1e73c-51b3-497b-b643-399bd9c9b2b8\")) {\n",
              "                    Plotly.newPlot(\n",
              "                        'f2c1e73c-51b3-497b-b643-399bd9c9b2b8',\n",
              "                        [{\"mode\": \"lines+markers\", \"name\": \"Real Values\", \"type\": \"scatter\", \"x\": [\"2021-06-14T00:00:00\", \"2021-06-15T00:00:00\", \"2021-06-16T00:00:00\", \"2021-06-17T00:00:00\", \"2021-06-18T00:00:00\", \"2021-06-21T00:00:00\"], \"y\": [1.2110203504562378, 1.212224006652832, 1.2127091884613037, 1.1995586156845093, 1.1913414001464844, 1.1900511980056763]}, {\"mode\": \"lines+markers\", \"name\": \"Predicted Values\", \"type\": \"scatter\", \"x\": [\"2021-06-14T00:00:00\", \"2021-06-15T00:00:00\", \"2021-06-16T00:00:00\", \"2021-06-17T00:00:00\", \"2021-06-18T00:00:00\", \"2021-06-21T00:00:00\", \"2021-06-22T00:00:00\", \"2021-06-23T00:00:00\", \"2021-06-24T00:00:00\", \"2021-06-25T00:00:00\", \"2021-06-28T00:00:00\", \"2021-06-29T00:00:00\", \"2021-06-30T00:00:00\", \"2021-07-01T00:00:00\"], \"y\": [1.2168467776533811, 1.216502428844425, 1.2161221224106136, 1.2158645184945929, 1.215454220146491, 1.2149880202603474, 1.2145320854069863, 1.2141338673303108, 1.213850215492104, 1.2134412762116185, 1.212836416479457, 1.2123277893194013, 1.2118848995414992, 1.2115879805206582]}],\n",
              "                        {\"template\": {\"data\": {\"bar\": [{\"error_x\": {\"color\": \"#2a3f5f\"}, \"error_y\": {\"color\": \"#2a3f5f\"}, \"marker\": {\"line\": {\"color\": \"white\", \"width\": 0.5}}, \"type\": \"bar\"}], \"barpolar\": [{\"marker\": {\"line\": {\"color\": \"white\", \"width\": 0.5}}, \"type\": \"barpolar\"}], \"carpet\": [{\"aaxis\": {\"endlinecolor\": \"#2a3f5f\", \"gridcolor\": \"#C8D4E3\", \"linecolor\": \"#C8D4E3\", \"minorgridcolor\": \"#C8D4E3\", \"startlinecolor\": \"#2a3f5f\"}, \"baxis\": {\"endlinecolor\": \"#2a3f5f\", \"gridcolor\": \"#C8D4E3\", \"linecolor\": \"#C8D4E3\", \"minorgridcolor\": \"#C8D4E3\", \"startlinecolor\": \"#2a3f5f\"}, \"type\": \"carpet\"}], \"choropleth\": [{\"colorbar\": {\"outlinewidth\": 0, \"ticks\": \"\"}, \"type\": \"choropleth\"}], \"contour\": [{\"colorbar\": {\"outlinewidth\": 0, \"ticks\": \"\"}, \"colorscale\": [[0.0, \"#0d0887\"], [0.1111111111111111, \"#46039f\"], [0.2222222222222222, \"#7201a8\"], [0.3333333333333333, \"#9c179e\"], [0.4444444444444444, \"#bd3786\"], [0.5555555555555556, \"#d8576b\"], [0.6666666666666666, \"#ed7953\"], [0.7777777777777778, \"#fb9f3a\"], [0.8888888888888888, \"#fdca26\"], [1.0, \"#f0f921\"]], \"type\": \"contour\"}], \"contourcarpet\": [{\"colorbar\": {\"outlinewidth\": 0, \"ticks\": \"\"}, \"type\": \"contourcarpet\"}], \"heatmap\": [{\"colorbar\": {\"outlinewidth\": 0, \"ticks\": \"\"}, \"colorscale\": [[0.0, \"#0d0887\"], [0.1111111111111111, \"#46039f\"], [0.2222222222222222, \"#7201a8\"], [0.3333333333333333, \"#9c179e\"], [0.4444444444444444, \"#bd3786\"], [0.5555555555555556, \"#d8576b\"], [0.6666666666666666, \"#ed7953\"], [0.7777777777777778, \"#fb9f3a\"], [0.8888888888888888, \"#fdca26\"], [1.0, \"#f0f921\"]], \"type\": \"heatmap\"}], \"heatmapgl\": [{\"colorbar\": {\"outlinewidth\": 0, \"ticks\": \"\"}, \"colorscale\": [[0.0, \"#0d0887\"], [0.1111111111111111, \"#46039f\"], [0.2222222222222222, \"#7201a8\"], [0.3333333333333333, \"#9c179e\"], [0.4444444444444444, \"#bd3786\"], [0.5555555555555556, \"#d8576b\"], [0.6666666666666666, \"#ed7953\"], [0.7777777777777778, \"#fb9f3a\"], [0.8888888888888888, \"#fdca26\"], [1.0, \"#f0f921\"]], \"type\": \"heatmapgl\"}], \"histogram\": [{\"marker\": {\"colorbar\": {\"outlinewidth\": 0, \"ticks\": \"\"}}, \"type\": \"histogram\"}], \"histogram2d\": [{\"colorbar\": {\"outlinewidth\": 0, \"ticks\": \"\"}, \"colorscale\": [[0.0, \"#0d0887\"], [0.1111111111111111, \"#46039f\"], [0.2222222222222222, \"#7201a8\"], [0.3333333333333333, \"#9c179e\"], [0.4444444444444444, \"#bd3786\"], [0.5555555555555556, \"#d8576b\"], [0.6666666666666666, \"#ed7953\"], [0.7777777777777778, \"#fb9f3a\"], [0.8888888888888888, \"#fdca26\"], [1.0, \"#f0f921\"]], \"type\": \"histogram2d\"}], \"histogram2dcontour\": [{\"colorbar\": {\"outlinewidth\": 0, \"ticks\": \"\"}, \"colorscale\": [[0.0, \"#0d0887\"], [0.1111111111111111, \"#46039f\"], [0.2222222222222222, \"#7201a8\"], [0.3333333333333333, \"#9c179e\"], [0.4444444444444444, \"#bd3786\"], [0.5555555555555556, \"#d8576b\"], [0.6666666666666666, \"#ed7953\"], [0.7777777777777778, \"#fb9f3a\"], [0.8888888888888888, \"#fdca26\"], [1.0, \"#f0f921\"]], \"type\": \"histogram2dcontour\"}], \"mesh3d\": [{\"colorbar\": {\"outlinewidth\": 0, \"ticks\": \"\"}, \"type\": \"mesh3d\"}], \"parcoords\": [{\"line\": {\"colorbar\": {\"outlinewidth\": 0, \"ticks\": \"\"}}, \"type\": \"parcoords\"}], \"pie\": [{\"automargin\": true, \"type\": \"pie\"}], \"scatter\": [{\"marker\": {\"colorbar\": {\"outlinewidth\": 0, \"ticks\": \"\"}}, \"type\": \"scatter\"}], \"scatter3d\": [{\"line\": {\"colorbar\": {\"outlinewidth\": 0, \"ticks\": \"\"}}, \"marker\": {\"colorbar\": {\"outlinewidth\": 0, \"ticks\": \"\"}}, \"type\": \"scatter3d\"}], \"scattercarpet\": [{\"marker\": {\"colorbar\": {\"outlinewidth\": 0, \"ticks\": \"\"}}, \"type\": \"scattercarpet\"}], \"scattergeo\": [{\"marker\": {\"colorbar\": {\"outlinewidth\": 0, \"ticks\": \"\"}}, \"type\": \"scattergeo\"}], \"scattergl\": [{\"marker\": {\"colorbar\": {\"outlinewidth\": 0, \"ticks\": \"\"}}, \"type\": \"scattergl\"}], \"scattermapbox\": [{\"marker\": {\"colorbar\": {\"outlinewidth\": 0, \"ticks\": \"\"}}, \"type\": \"scattermapbox\"}], \"scatterpolar\": [{\"marker\": {\"colorbar\": {\"outlinewidth\": 0, \"ticks\": \"\"}}, \"type\": \"scatterpolar\"}], \"scatterpolargl\": [{\"marker\": {\"colorbar\": {\"outlinewidth\": 0, \"ticks\": \"\"}}, \"type\": \"scatterpolargl\"}], \"scatterternary\": [{\"marker\": {\"colorbar\": {\"outlinewidth\": 0, \"ticks\": \"\"}}, \"type\": \"scatterternary\"}], \"surface\": [{\"colorbar\": {\"outlinewidth\": 0, \"ticks\": \"\"}, \"colorscale\": [[0.0, \"#0d0887\"], [0.1111111111111111, \"#46039f\"], [0.2222222222222222, \"#7201a8\"], [0.3333333333333333, \"#9c179e\"], [0.4444444444444444, \"#bd3786\"], [0.5555555555555556, \"#d8576b\"], [0.6666666666666666, \"#ed7953\"], [0.7777777777777778, \"#fb9f3a\"], [0.8888888888888888, \"#fdca26\"], [1.0, \"#f0f921\"]], \"type\": \"surface\"}], \"table\": [{\"cells\": {\"fill\": {\"color\": \"#EBF0F8\"}, \"line\": {\"color\": \"white\"}}, \"header\": {\"fill\": {\"color\": \"#C8D4E3\"}, \"line\": {\"color\": \"white\"}}, \"type\": \"table\"}]}, \"layout\": {\"annotationdefaults\": {\"arrowcolor\": \"#2a3f5f\", \"arrowhead\": 0, \"arrowwidth\": 1}, \"coloraxis\": {\"colorbar\": {\"outlinewidth\": 0, \"ticks\": \"\"}}, \"colorscale\": {\"diverging\": [[0, \"#8e0152\"], [0.1, \"#c51b7d\"], [0.2, \"#de77ae\"], [0.3, \"#f1b6da\"], [0.4, \"#fde0ef\"], [0.5, \"#f7f7f7\"], [0.6, \"#e6f5d0\"], [0.7, \"#b8e186\"], [0.8, \"#7fbc41\"], [0.9, \"#4d9221\"], [1, \"#276419\"]], \"sequential\": [[0.0, \"#0d0887\"], [0.1111111111111111, \"#46039f\"], [0.2222222222222222, \"#7201a8\"], [0.3333333333333333, \"#9c179e\"], [0.4444444444444444, \"#bd3786\"], [0.5555555555555556, \"#d8576b\"], [0.6666666666666666, \"#ed7953\"], [0.7777777777777778, \"#fb9f3a\"], [0.8888888888888888, \"#fdca26\"], [1.0, \"#f0f921\"]], \"sequentialminus\": [[0.0, \"#0d0887\"], [0.1111111111111111, \"#46039f\"], [0.2222222222222222, \"#7201a8\"], [0.3333333333333333, \"#9c179e\"], [0.4444444444444444, \"#bd3786\"], [0.5555555555555556, \"#d8576b\"], [0.6666666666666666, \"#ed7953\"], [0.7777777777777778, \"#fb9f3a\"], [0.8888888888888888, \"#fdca26\"], [1.0, \"#f0f921\"]]}, \"colorway\": [\"#636efa\", \"#EF553B\", \"#00cc96\", \"#ab63fa\", \"#FFA15A\", \"#19d3f3\", \"#FF6692\", \"#B6E880\", \"#FF97FF\", \"#FECB52\"], \"font\": {\"color\": \"#2a3f5f\"}, \"geo\": {\"bgcolor\": \"white\", \"lakecolor\": \"white\", \"landcolor\": \"white\", \"showlakes\": true, \"showland\": true, \"subunitcolor\": \"#C8D4E3\"}, \"hoverlabel\": {\"align\": \"left\"}, \"hovermode\": \"closest\", \"mapbox\": {\"style\": \"light\"}, \"paper_bgcolor\": \"white\", \"plot_bgcolor\": \"white\", \"polar\": {\"angularaxis\": {\"gridcolor\": \"#EBF0F8\", \"linecolor\": \"#EBF0F8\", \"ticks\": \"\"}, \"bgcolor\": \"white\", \"radialaxis\": {\"gridcolor\": \"#EBF0F8\", \"linecolor\": \"#EBF0F8\", \"ticks\": \"\"}}, \"scene\": {\"xaxis\": {\"backgroundcolor\": \"white\", \"gridcolor\": \"#DFE8F3\", \"gridwidth\": 2, \"linecolor\": \"#EBF0F8\", \"showbackground\": true, \"ticks\": \"\", \"zerolinecolor\": \"#EBF0F8\"}, \"yaxis\": {\"backgroundcolor\": \"white\", \"gridcolor\": \"#DFE8F3\", \"gridwidth\": 2, \"linecolor\": \"#EBF0F8\", \"showbackground\": true, \"ticks\": \"\", \"zerolinecolor\": \"#EBF0F8\"}, \"zaxis\": {\"backgroundcolor\": \"white\", \"gridcolor\": \"#DFE8F3\", \"gridwidth\": 2, \"linecolor\": \"#EBF0F8\", \"showbackground\": true, \"ticks\": \"\", \"zerolinecolor\": \"#EBF0F8\"}}, \"shapedefaults\": {\"line\": {\"color\": \"#2a3f5f\"}}, \"ternary\": {\"aaxis\": {\"gridcolor\": \"#DFE8F3\", \"linecolor\": \"#A2B1C6\", \"ticks\": \"\"}, \"baxis\": {\"gridcolor\": \"#DFE8F3\", \"linecolor\": \"#A2B1C6\", \"ticks\": \"\"}, \"bgcolor\": \"white\", \"caxis\": {\"gridcolor\": \"#DFE8F3\", \"linecolor\": \"#A2B1C6\", \"ticks\": \"\"}}, \"title\": {\"x\": 0.05}, \"xaxis\": {\"automargin\": true, \"gridcolor\": \"#EBF0F8\", \"linecolor\": \"#EBF0F8\", \"ticks\": \"\", \"title\": {\"standoff\": 15}, \"zerolinecolor\": \"#EBF0F8\", \"zerolinewidth\": 2}, \"yaxis\": {\"automargin\": true, \"gridcolor\": \"#EBF0F8\", \"linecolor\": \"#EBF0F8\", \"ticks\": \"\", \"title\": {\"standoff\": 15}, \"zerolinecolor\": \"#EBF0F8\", \"zerolinewidth\": 2}}}},\n",
              "                        {\"responsive\": true}\n",
              "                    ).then(function(){\n",
              "                            \n",
              "var gd = document.getElementById('f2c1e73c-51b3-497b-b643-399bd9c9b2b8');\n",
              "var x = new MutationObserver(function (mutations, observer) {{\n",
              "        var display = window.getComputedStyle(gd).display;\n",
              "        if (!display || display === 'none') {{\n",
              "            console.log([gd, 'removed!']);\n",
              "            Plotly.purge(gd);\n",
              "            observer.disconnect();\n",
              "        }}\n",
              "}});\n",
              "\n",
              "// Listen for the removal of the full notebook cells\n",
              "var notebookContainer = gd.closest('#notebook-container');\n",
              "if (notebookContainer) {{\n",
              "    x.observe(notebookContainer, {childList: true});\n",
              "}}\n",
              "\n",
              "// Listen for the clearing of the current output cell\n",
              "var outputEl = gd.closest('.output');\n",
              "if (outputEl) {{\n",
              "    x.observe(outputEl, {childList: true});\n",
              "}}\n",
              "\n",
              "                        })\n",
              "                };\n",
              "                \n",
              "            </script>\n",
              "        </div>\n",
              "</body>\n",
              "</html>"
            ]
          },
          "metadata": {
            "tags": []
          }
        }
      ]
    },
    {
      "cell_type": "code",
      "metadata": {
        "colab": {
          "base_uri": "https://localhost:8080/",
          "height": 696
        },
        "id": "0B6_i8z8AQXR",
        "outputId": "3f3a7536-5a6e-45c8-d29f-6a720af674fe"
      },
      "source": [
        "calc_errors(final_df_results['y'].iloc[:5].values, final_df_results['yhat'].iloc[:5].values)"
      ],
      "execution_count": null,
      "outputs": [
        {
          "output_type": "stream",
          "text": [
            "Mean MAE: 0.01\n",
            "MAE%: 0.89%\n",
            "RMSE: 0.01\n",
            "Bias: 0.01\n",
            "\n",
            "5th percetile MAE: 0.00\n",
            "25th percetile MAE: 0.00\n",
            "50th percetile MAE: 0.01\n",
            "75th percetile MAE: 0.02\n",
            "95th percetile MAE: 0.02\n"
          ],
          "name": "stdout"
        },
        {
          "output_type": "display_data",
          "data": {
            "image/png": "[encoded data removed]",
            "text/plain": [
              "<Figure size 576x576 with 1 Axes>"
            ]
          },
          "metadata": {
            "tags": [],
            "needs_background": "light"
          }
        }
      ]
    }
  ]
}